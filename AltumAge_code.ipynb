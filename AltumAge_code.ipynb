{
 "cells": [
  {
   "cell_type": "markdown",
   "id": "20be4239-aa72-46f0-9e8d-59fcb8197f7c",
   "metadata": {},
   "source": [
    "# Normalization"
   ]
  },
  {
   "cell_type": "code",
   "execution_count": 1,
   "id": "cf03f64d-1a13-4d9a-b36d-9acc4f151db5",
   "metadata": {},
   "outputs": [],
   "source": [
    "#load packages\n",
    "import pandas as pd\n",
    "import numpy as np\n",
    "from my_functions import *\n",
    "import pyRserve\n",
    "import os.path\n",
    "import gc\n",
    "from sklearn.experimental import enable_iterative_imputer\n",
    "from sklearn.impute import KNNImputer\n",
    "from sklearn.impute import SimpleImputer\n",
    "from sklearn.impute import IterativeImputer\n",
    "from sklearn.linear_model import BayesianRidge\n",
    "from sklearn.ensemble import ExtraTreesRegressor\n",
    "from sklearn.preprocessing import QuantileTransformer\n",
    "from sklearn.model_selection import train_test_split\n",
    "from IPython.display import clear_output\n",
    "import random"
   ]
  },
  {
   "cell_type": "code",
   "execution_count": 2,
   "id": "f9f1cbfd-b57c-488a-a4d1-b2071752cdc2",
   "metadata": {},
   "outputs": [],
   "source": [
    "geo_data_27k = [\n",
    "    'GSE27317', \n",
    "    'GSE41037', \n",
    "    'GSE38873', \n",
    "    'GSE15745', \n",
    "    'GSE32393', \n",
    "    'GSE25892', \n",
    "    'GSE20242', \n",
    "    'GSE22595', \n",
    "    'GSE37988', \n",
    "    'GSE17448', \n",
    "    'GSE36642', \n",
    "    'GSE26126', \n",
    "    'GSE34035', \n",
    "    'GSE28746',\n",
    "    'GSE20236',\n",
    "    'GSE19711',\n",
    "    'GSE37008',\n",
    "    'GSE36812',\n",
    "    'GSE34257',\n",
    "    'GSE38608',\n",
    "    'GSE38291',\n",
    "    'GSE36166',\n",
    "    'GSE63384',\n",
    "    'GSE59274',\n",
    "    'GSE57285',\n",
    "    'GSE56606',\n",
    "    'GSE49908',\n",
    "    'GSE49907',\n",
    "    'GSE49905',\n",
    "    'GSE49904'\n",
    "]\n",
    "\n",
    "geo_data_450k = [\n",
    "    'GSE90124', \n",
    "    'GSE115797',\n",
    "    'GSE99624', \n",
    "    'GSE108213',\n",
    "    'GSE92767', \n",
    "    'GSE69176',\n",
    "    'GSE40360',\n",
    "    'GSE59157', \n",
    "    'GSE42861',\n",
    "    'GSE77241',\n",
    "    'GSE148000'\n",
    "]      \n",
    "\n",
    "array_express_27k = [\n",
    "    'E-GEOD-43256',\n",
    "    'E-GEOD-64940',\n",
    "    'E-MTAB-2344',\n",
    "    'E-GEOD-62867',\n",
    "    'E-GEOD-44763',\n",
    "    'E-GEOD-48988',\n",
    "    'E-GEOD-58119',\n",
    "    'E-GEOD-58045',\n",
    "    'E-GEOD-57484',\n",
    "    'E-GEOD-54211',\n",
    "    'E-GEOD-56342',\n",
    "    'E-GEOD-27044',\n",
    "    'E-GEOD-36194',\n",
    "    'E-GEOD-21232',\n",
    "    'E-GEOD-32867',\n",
    "    'E-GEOD-30759',\n",
    "    'E-GEOD-30758',\n",
    "    'E-GEOD-32396',\n",
    "    'E-GEOD-31979',\n",
    "    'E-MTAB-625',\n",
    "    'E-MTAB-487'\n",
    "]\n",
    "\n",
    "array_express_450k = [\n",
    "    'E-MTAB-2372',\n",
    "    'E-GEOD-73832',\n",
    "    'E-GEOD-71678',\n",
    "    'E-GEOD-71245',\n",
    "    'E-GEOD-83334',\n",
    "    'E-GEOD-75248',\n",
    "    'E-GEOD-77955',\n",
    "    'E-GEOD-67705',\n",
    "    'E-GEOD-77445',\n",
    "    'E-GEOD-79056',\n",
    "    'E-GEOD-72556',\n",
    "    'E-GEOD-52068',\n",
    "    'E-GEOD-74738',\n",
    "    'E-GEOD-76105',\n",
    "    'E-GEOD-65638',\n",
    "    'E-GEOD-71955',\n",
    "    'E-GEOD-63106',\n",
    "    'E-GEOD-73377',\n",
    "    'E-GEOD-56515',\n",
    "    'E-GEOD-73103',\n",
    "    'E-GEOD-67024',\n",
    "    'E-GEOD-72338',\n",
    "    'E-GEOD-59457',\n",
    "    'E-GEOD-64511',\n",
    "    'E-GEOD-64495',\n",
    "    'E-GEOD-59509',\n",
    "    'E-GEOD-67444',\n",
    "    'E-GEOD-62219',\n",
    "    'E-GEOD-51954',\n",
    "    'E-GEOD-52588',\n",
    "    'E-GEOD-36054',\n",
    "    'E-GEOD-50660',\n",
    "    'E-GEOD-61259',\n",
    "    'E-GEOD-61258',\n",
    "    'E-GEOD-61257',\n",
    "    'E-GEOD-61454',\n",
    "    'E-GEOD-61380',\n",
    "    'E-GEOD-61107',\n",
    "    'E-GEOD-54690',\n",
    "    'E-GEOD-49149',\n",
    "    'E-GEOD-55438',\n",
    "    'E-GEOD-53740',\n",
    "    'E-GEOD-57767',\n",
    "    'E-GEOD-49064',\n",
    "    'E-GEOD-50759',\n",
    "    'E-GEOD-56553',\n",
    "    'E-GEOD-54399',\n",
    "    'E-GEOD-53162',\n",
    "    'E-GEOD-53128', \n",
    "    'E-GEOD-50498', \n",
    "    'E-GEOD-47513',\n",
    "    'E-GEOD-49393',\n",
    "    'E-GEOD-39004',\n",
    "    'E-GEOD-51388',\n",
    "    'E-GEOD-51032', \n",
    "    'E-GEOD-48325',\n",
    "    'E-GEOD-44712',\n",
    "    'E-GEOD-45461',\n",
    "    'E-GEOD-40279',\n",
    "    'E-GEOD-41169',\n",
    "    'E-GEOD-32149',\n",
    "    'E-GEOD-41826',\n",
    "    'E-GEOD-42700',\n",
    "    'E-GEOD-32146',\n",
    "    'E-GEOD-30870',\n",
    "    'E-GEOD-34639',\n",
    "    'E-GEOD-63347', \n",
    "    'E-GEOD-59592'\n",
    "]\n",
    "\n",
    "tcga_all = [\n",
    "    'TGCA_LUSC',\n",
    "    'TGCA_THCA',\n",
    "    'TGCA_HNSC',\n",
    "    'TGCA_KIRC',\n",
    "    'TGCA_KIRP',\n",
    "    'TGCA_LUAD',\n",
    "    'TGCA_PRAD',\n",
    "    'TGCA_STAD',\n",
    "    'TGCA_COAD',\n",
    "    'TGCA_LIHC',\n",
    "    'TGCA_UCEC',\n",
    "    'TGCA_BRCA'\n",
    "]\n",
    "\n",
    "cancer_data = [\n",
    "    'GSE32393',\n",
    "    'GSE37988',\n",
    "    'GSE26126',\n",
    "    'GSE63384',\n",
    "    'GSE59157',\n",
    "    'E-GEOD-32867',\n",
    "    'E-GEOD-30759',\n",
    "    'E-GEOD-31979',\n",
    "    'E-GEOD-77955',\n",
    "    'E-GEOD-52068',\n",
    "    'E-GEOD-49149',\n",
    "    'E-GEOD-39004'\n",
    "]\n",
    "\n",
    "cancer_comparison = [\n",
    "    'GSE53051',\n",
    "]\n",
    "\n",
    "reliability = [\n",
    "    'GSE55763',\n",
    "]\n",
    "\n",
    "rejuvenation = [\n",
    "    'GSE142439',\n",
    "    'GSE116754',\n",
    "    'GSE65214', \n",
    "    'GSE44430',\n",
    "    'GSE45727',\n",
    "    'GSE30653',\n",
    "    'GSE37066',\n",
    "    'GSE30456',\n",
    "]\n",
    "\n",
    "senescence_analysis = [\n",
    "    'GSE91069',\n",
    "    'GSE100249'\n",
    "]"
   ]
  },
  {
   "cell_type": "code",
   "execution_count": 3,
   "id": "1cc041a1-0258-4e72-a271-d441cffcfa04",
   "metadata": {},
   "outputs": [],
   "source": [
    "data_27k = np.concatenate([np.array(geo_data_27k), np.array(array_express_27k)])\n",
    "data_450k = np.concatenate([np.array(geo_data_450k), np.array(array_express_450k)])\n",
    "tcga_all = np.array(tcga_all)\n",
    "all_data = np.concatenate([data_27k, data_450k, tcga_all])"
   ]
  },
  {
   "cell_type": "code",
   "execution_count": 7,
   "id": "987c7040-cf52-4d15-9edd-8eba18f8a22b",
   "metadata": {},
   "outputs": [],
   "source": [
    "#load gold standard values from Horvath's\n",
    "gs = pd.read_csv('gold_standard.csv')\n",
    "gs_cpgs = np.array(gs.Name)\n",
    "gs_values = np.array(gs.goldstandard2)"
   ]
  },
  {
   "cell_type": "code",
   "execution_count": 8,
   "id": "abb0b625-14dc-4e5b-add5-26bd14bc581b",
   "metadata": {},
   "outputs": [
    {
     "data": {
      "text/plain": [
       "<Handle to Rserve on localhost:6316>"
      ]
     },
     "execution_count": 8,
     "metadata": {},
     "output_type": "execute_result"
    }
   ],
   "source": [
    "#connect to R\n",
    "conn = pyRserve.connect(port=6316)\n",
    "conn"
   ]
  },
  {
   "cell_type": "code",
   "execution_count": 10,
   "id": "6da403e5-8f3c-414f-ad87-e14bc694d8c0",
   "metadata": {},
   "outputs": [
    {
     "data": {
      "text/plain": [
       "<TaggedList(value=<Closure instance 4463884656>, visible=False)>"
      ]
     },
     "execution_count": 10,
     "metadata": {},
     "output_type": "execute_result"
    }
   ],
   "source": [
    "#load required R packages\n",
    "conn.eval('library(RPMM)')\n",
    "conn.eval(\"source('/Users/lucascamillo/deep clock/BMIQCalibration.R.txt')\")"
   ]
  },
  {
   "cell_type": "code",
   "execution_count": 11,
   "id": "fef6a244-e71c-4b2d-ae2d-322c999881cf",
   "metadata": {},
   "outputs": [
    {
     "name": "stdout",
     "output_type": "stream",
     "text": [
      "Percentage completed: 100.0%\n"
     ]
    }
   ],
   "source": [
    "#normalize BMIQ\n",
    "failed_datasets = []\n",
    "count = 0\n",
    "data = all_data\n",
    "for dataset in data:\n",
    "    print(dataset)\n",
    "    count += 1\n",
    "    try:\n",
    "        df = pd.read_pickle('./data_pkl/' + dataset + '.pkl')\n",
    "        df = remove_outliers(df)\n",
    "        imp = KNNImputer()\n",
    "        norm_df = normalize_bmiq(dataset, df, gs_cpgs, gs_values, imp, conn)\n",
    "        norm_df.to_pickle('./data_norm_pkl/' + dataset + '.pkl')\n",
    "    except:\n",
    "        failed_datasets.append(dataset)\n",
    "        print(str(dataset) + ' failed...')\n",
    "        continue\n",
    "    clear_output()\n",
    "    print('Percentage completed: ' + str(count/len(data)*100) + '%')"
   ]
  },
  {
   "cell_type": "code",
   "execution_count": 12,
   "id": "54e72621-e8ac-4edf-ba1f-f33843f8bb00",
   "metadata": {},
   "outputs": [
    {
     "data": {
      "text/plain": [
       "[]"
      ]
     },
     "execution_count": 12,
     "metadata": {},
     "output_type": "execute_result"
    }
   ],
   "source": [
    "failed_datasets"
   ]
  },
  {
   "cell_type": "code",
   "execution_count": null,
   "id": "5b4be3fa-6107-4a00-9d8c-567bac64fb6d",
   "metadata": {},
   "outputs": [],
   "source": [
    "#split each normalized dataset into a train and test section\n",
    "data = priority\n",
    "for dataset in all_data:\n",
    "    try:\n",
    "        df = pd.read_pickle('./data_norm_pkl/' + dataset + '.pkl')\n",
    "        df_train, df_test = train_test_split(df, test_size=0.4, random_state=1)\n",
    "        df_train.to_pickle('./data_train/' + dataset + '.pkl')\n",
    "        df_test.to_pickle('./data_test/' + dataset + '.pkl')\n",
    "    except:\n",
    "        continue"
   ]
  },
  {
   "cell_type": "markdown",
   "id": "ae37045b-a7d4-4954-8108-00f9e361027f",
   "metadata": {},
   "source": [
    "# Model"
   ]
  },
  {
   "cell_type": "code",
   "execution_count": 4,
   "id": "3a4517b1-d5b0-4698-9010-2005a6eb725d",
   "metadata": {},
   "outputs": [
    {
     "name": "stderr",
     "output_type": "stream",
     "text": [
      "/Users/lucascamillo/mambaforge/envs/singh_lab/lib/python3.9/site-packages/tensorflow/python/framework/dtypes.py:585: DeprecationWarning: `np.object` is a deprecated alias for the builtin `object`. To silence this warning, use `object` by itself. Doing this will not modify any behavior and is safe. \n",
      "Deprecated in NumPy 1.20; for more details and guidance: https://numpy.org/devdocs/release/1.20.0-notes.html#deprecations\n",
      "  np.object,\n",
      "/Users/lucascamillo/mambaforge/envs/singh_lab/lib/python3.9/site-packages/tensorflow/python/framework/dtypes.py:637: DeprecationWarning: `np.bool` is a deprecated alias for the builtin `bool`. To silence this warning, use `bool` by itself. Doing this will not modify any behavior and is safe. If you specifically wanted the numpy scalar type, use `np.bool_` here.\n",
      "Deprecated in NumPy 1.20; for more details and guidance: https://numpy.org/devdocs/release/1.20.0-notes.html#deprecations\n",
      "  np.bool,\n",
      "/Users/lucascamillo/mambaforge/envs/singh_lab/lib/python3.9/site-packages/tensorflow/python/framework/tensor_util.py:108: DeprecationWarning: `np.object` is a deprecated alias for the builtin `object`. To silence this warning, use `object` by itself. Doing this will not modify any behavior and is safe. \n",
      "Deprecated in NumPy 1.20; for more details and guidance: https://numpy.org/devdocs/release/1.20.0-notes.html#deprecations\n",
      "  np.object:\n",
      "/Users/lucascamillo/mambaforge/envs/singh_lab/lib/python3.9/site-packages/tensorflow/python/framework/tensor_util.py:110: DeprecationWarning: `np.bool` is a deprecated alias for the builtin `bool`. To silence this warning, use `bool` by itself. Doing this will not modify any behavior and is safe. If you specifically wanted the numpy scalar type, use `np.bool_` here.\n",
      "Deprecated in NumPy 1.20; for more details and guidance: https://numpy.org/devdocs/release/1.20.0-notes.html#deprecations\n",
      "  np.bool:\n",
      "/Users/lucascamillo/mambaforge/envs/singh_lab/lib/python3.9/site-packages/tensorflow/python/ops/numpy_ops/np_random.py:110: DeprecationWarning: `np.int` is a deprecated alias for the builtin `int`. To silence this warning, use `int` by itself. Doing this will not modify any behavior and is safe. When replacing `np.int`, you may wish to use e.g. `np.int64` or `np.int32` to specify the precision. If you wish to review your current use, check the release note link for additional information.\n",
      "Deprecated in NumPy 1.20; for more details and guidance: https://numpy.org/devdocs/release/1.20.0-notes.html#deprecations\n",
      "  def randint(low, high=None, size=None, dtype=onp.int):  # pylint: disable=missing-function-docstring\n"
     ]
    }
   ],
   "source": [
    "import numpy as np\n",
    "import pandas as pd\n",
    "\n",
    "from glmnet import ElasticNet\n",
    "\n",
    "from sklearn import svm, linear_model, ensemble\n",
    "from sklearn.impute import SimpleImputer\n",
    "from sklearn import preprocessing\n",
    "from sklearn.model_selection import train_test_split, GridSearchCV, PredefinedSplit\n",
    "\n",
    "import gc\n",
    "\n",
    "import math\n",
    "\n",
    "from IPython.display import clear_output\n",
    "\n",
    "from my_functions import *\n",
    "\n",
    "import os\n",
    "\n",
    "import matplotlib\n",
    "\n",
    "import random\n",
    "\n",
    "from pytorch_tabnet.tab_model import TabNetClassifier, TabNetRegressor\n",
    "\n",
    "import neural_structured_learning as nsl\n",
    "\n",
    "import tensorflow_docs as tfdocs\n",
    "import tensorflow_docs.modeling\n",
    "import tensorflow_docs.plots\n",
    "import tensorflow as tf\n",
    "from keras.wrappers.scikit_learn import KerasRegressor\n",
    "from tensorflow.keras import regularizers\n",
    "from tensorflow.keras import datasets, layers, models\n",
    "from tensorflow.keras.models import Sequential, Model\n",
    "from tensorflow.keras.layers import Activation, InputLayer, ActivityRegularization, GaussianDropout, GaussianNoise, Embedding, Bidirectional, Input, LSTM, GRU, multiply, Lambda, PReLU, SimpleRNN, Dense, Activation, BatchNormalization, Conv2D, Conv1D, Flatten, LeakyReLU, Dropout, MaxPooling2D, MaxPooling1D, Reshape"
   ]
  },
  {
   "cell_type": "code",
   "execution_count": 5,
   "id": "1c670b49-d0f5-4e53-b7ce-d6cd376c2a10",
   "metadata": {},
   "outputs": [],
   "source": [
    "random.seed(1)\n",
    "tf.random.set_seed(1)\n",
    "np.random.seed(1)"
   ]
  },
  {
   "cell_type": "code",
   "execution_count": 6,
   "id": "123046c6-1176-41c4-960c-1c4c98347ab6",
   "metadata": {},
   "outputs": [],
   "source": [
    "random.seed(1)\n",
    "random.shuffle(all_data)"
   ]
  },
  {
   "cell_type": "code",
   "execution_count": 7,
   "id": "276a960d-b055-449e-9ccf-8d13e426b433",
   "metadata": {},
   "outputs": [],
   "source": [
    "#load CpG site arrays\n",
    "epic_cpgs = np.array(pd.read_csv('epic_cpgs.txt', header = None, sep = '\\t')[0])\n",
    "gs_cpgs = np.array(pd.read_csv('gold_standard.csv').Name)\n",
    "multi_platform_cpgs = np.intersect1d(epic_cpgs, gs_cpgs)"
   ]
  },
  {
   "cell_type": "markdown",
   "id": "e2078261-61f2-43ec-8abc-c787fa6e750f",
   "metadata": {
    "tags": []
   },
   "source": [
    "## Model Selection and Validation"
   ]
  },
  {
   "cell_type": "code",
   "execution_count": 26,
   "id": "6ab586e6-81cd-4046-a56c-f64bf7a8670e",
   "metadata": {},
   "outputs": [],
   "source": [
    "#load all train data for model training and validation\n",
    "count = 0   \n",
    "for dataset in all_data[0:85]:\n",
    "    print(dataset)\n",
    "    if count == 0:\n",
    "        train = pd.read_pickle('./data_train/' + dataset + '.pkl')\n",
    "        count += 1\n",
    "    else:\n",
    "        new_train = pd.read_pickle('./data_train/' + dataset + '.pkl')\n",
    "        train = pd.concat([train, new_train], join ='inner')\n",
    "        gc.collect()\n",
    "    clear_output()"
   ]
  },
  {
   "cell_type": "code",
   "execution_count": 27,
   "id": "f7308c4a-7520-45f0-93ac-399db6afb5e0",
   "metadata": {},
   "outputs": [],
   "source": [
    "#load all train data for model training and validation\n",
    "count = 0   \n",
    "for dataset in all_data[85::]:\n",
    "    print(dataset)\n",
    "    if count == 0:\n",
    "        validation = pd.read_pickle('./data_train/' + dataset + '.pkl')\n",
    "        count += 1\n",
    "    else:\n",
    "        new_validation = pd.read_pickle('./data_train/' + dataset + '.pkl')\n",
    "        validation = pd.concat([validation, new_validation], join ='inner')\n",
    "        gc.collect()\n",
    "    clear_output()"
   ]
  },
  {
   "cell_type": "code",
   "execution_count": 28,
   "id": "8412217f-3798-458d-a51e-7ed36c4fe55e",
   "metadata": {},
   "outputs": [],
   "source": [
    "#extracting age and removing unimportant columns\n",
    "train_ages = train['age'].astype('float64')\n",
    "val_ages = validation['age'].astype('float64')\n",
    "\n",
    "train_info = train[['dataset', 'tissue_type', 'age', 'gender']]\n",
    "validation_info = validation[['dataset', 'tissue_type', 'age', 'gender']]\n",
    "\n",
    "train = train.drop(columns = ['dataset', 'tissue_type', 'age', 'gender'], axis=0)\n",
    "validation = validation.drop(columns = ['dataset', 'tissue_type', 'age', 'gender'], axis=0)"
   ]
  },
  {
   "cell_type": "code",
   "execution_count": 29,
   "id": "e30cdf81-4456-4ea9-8128-c580a20cb2d8",
   "metadata": {},
   "outputs": [],
   "source": [
    "#save names of columns and indexes\n",
    "train_cols = train.columns\n",
    "train_index = train.index\n",
    "\n",
    "validation_cols = validation.columns\n",
    "validation_index = validation.index"
   ]
  },
  {
   "cell_type": "code",
   "execution_count": 30,
   "id": "dfe24abb-5147-4f4b-bcdf-33ad068e1053",
   "metadata": {},
   "outputs": [],
   "source": [
    "#scaling the data so each columns has 0 mean and variance 1\n",
    "scaler = preprocessing.RobustScaler()\n",
    "\n",
    "train_scaled = pd.DataFrame(scaler.fit_transform(train), index = train_index, columns = train_cols)\n",
    "validation_scaled = pd.DataFrame(scaler.transform(validation), index = validation_index, columns = validation_cols)"
   ]
  },
  {
   "cell_type": "markdown",
   "id": "785dfafa-b28e-46b7-92af-0d7f50c03379",
   "metadata": {},
   "source": [
    "## Horvath"
   ]
  },
  {
   "cell_type": "code",
   "execution_count": 13,
   "id": "39afcdd6-180c-4ef7-867c-ecaae947fba9",
   "metadata": {},
   "outputs": [],
   "source": [
    "#loading model parameters from Horvath's Model\n",
    "coef_data = pd.read_csv('coefficients.csv')\n",
    "intercept = coef_data[0:1].CoefficientTraining[0]\n",
    "horvath_cpgs = np.array(coef_data.drop(0).CpGmarker)\n",
    "coefs = np.array(coef_data.drop(0).CoefficientTraining)"
   ]
  },
  {
   "cell_type": "code",
   "execution_count": 14,
   "id": "e871457a-f765-4a2c-bba8-f6a3cd4c7d0b",
   "metadata": {},
   "outputs": [],
   "source": [
    "horvath_model = linear_model.LinearRegression()\n",
    "horvath_model.coef_ = coefs\n",
    "horvath_model.intercept_ = intercept"
   ]
  },
  {
   "cell_type": "code",
   "execution_count": 17,
   "id": "aea093be-3d46-4bd0-a229-bbcb3e00f0d7",
   "metadata": {},
   "outputs": [
    {
     "name": "stderr",
     "output_type": "stream",
     "text": [
      "/Users/lucascamillo/mambaforge/envs/singh_lab/lib/python3.9/site-packages/sklearn/base.py:438: UserWarning: X has feature names, but LinearRegression was fitted without feature names\n",
      "  warnings.warn(\n"
     ]
    }
   ],
   "source": [
    "#using model to predict validation data\n",
    "pred_ages = anti_transform_age(horvath_model.predict(validation[horvath_cpgs]))\n",
    "pred_ages = pd.Series(pred_ages, index = validation_index, name = 'pred_age')\n",
    "\n",
    "horvath_results = pd.concat([validation_info, pred_ages], axis=1, sort=False, join='inner')"
   ]
  },
  {
   "cell_type": "code",
   "execution_count": 18,
   "id": "d9fc99d8-175e-461f-8c77-32e66877e154",
   "metadata": {},
   "outputs": [
    {
     "name": "stdout",
     "output_type": "stream",
     "text": [
      "MAE: 3.2725092280288335\n",
      "MSE: 54.380731240820964\n"
     ]
    }
   ],
   "source": [
    "#quick view of metrics:\n",
    "mae = np.median(np.abs(pred_ages - val_ages))\n",
    "mse = np.mean((pred_ages - val_ages)**2)\n",
    "print('MAE: '+ str(mae))\n",
    "print('MSE: '+ str(mse))"
   ]
  },
  {
   "cell_type": "code",
   "execution_count": 19,
   "id": "2ec14903-f197-459c-807e-1f90a79070dc",
   "metadata": {},
   "outputs": [],
   "source": [
    "#saving results\n",
    "horvath_results.to_pickle('results_validation/horvath_revision.pkl')"
   ]
  },
  {
   "cell_type": "markdown",
   "id": "33cb5880-c3ea-4cc2-b3b3-b2a26cf7da4e",
   "metadata": {},
   "source": [
    "## Linear Regression 353 CpGs"
   ]
  },
  {
   "cell_type": "code",
   "execution_count": 18,
   "id": "6442604d-014f-49b4-93a6-59efbb27c5a7",
   "metadata": {},
   "outputs": [
    {
     "data": {
      "text/plain": [
       "LinearRegression()"
      ]
     },
     "execution_count": 18,
     "metadata": {},
     "output_type": "execute_result"
    }
   ],
   "source": [
    "#fit model\n",
    "linear_regression_model = linear_model.LinearRegression() \n",
    "linear_regression_model.fit(train[horvath_cpgs], transform_age(train_ages))"
   ]
  },
  {
   "cell_type": "code",
   "execution_count": 19,
   "id": "3849125e-d747-4f54-aba3-5360f78f92ab",
   "metadata": {},
   "outputs": [],
   "source": [
    "#using model to predict validation data\n",
    "pred_ages = anti_transform_age(linear_regression_model.predict(validation[horvath_cpgs]))\n",
    "pred_ages = pd.Series(pred_ages, index = validation_index, name = 'pred_age')\n",
    "\n",
    "linear_regression_results = pd.concat([validation_info, pred_ages], axis=1, sort=False, join='inner')"
   ]
  },
  {
   "cell_type": "code",
   "execution_count": 20,
   "id": "c4dae738-d3e7-4bb4-add7-8a588dce55f7",
   "metadata": {},
   "outputs": [
    {
     "name": "stdout",
     "output_type": "stream",
     "text": [
      "MAE: 3.5855314567076846\n",
      "MSE: 62.72726175039979\n"
     ]
    }
   ],
   "source": [
    "#quick view of metrics:\n",
    "mae = np.median(np.abs(pred_ages - val_ages))\n",
    "mse = np.mean((pred_ages - val_ages)**2)\n",
    "print('MAE: '+ str(mae))\n",
    "print('MSE: '+ str(mse))"
   ]
  },
  {
   "cell_type": "code",
   "execution_count": 21,
   "id": "6d062395-c24c-48c6-ad7a-9fe57a9faf1c",
   "metadata": {},
   "outputs": [],
   "source": [
    "#saving results\n",
    "linear_regression_results.to_pickle('results_validation/linear_regression_353_revision.pkl')"
   ]
  },
  {
   "cell_type": "markdown",
   "id": "e1b7538e-2bf3-437c-b4ff-749f6ab8b089",
   "metadata": {},
   "source": [
    "### Select only CpGs common to all 3 platforms"
   ]
  },
  {
   "cell_type": "code",
   "execution_count": 31,
   "id": "4461d03e-4a05-4b87-af97-6403963f3357",
   "metadata": {},
   "outputs": [],
   "source": [
    "train = train[multi_platform_cpgs]\n",
    "validation = validation[multi_platform_cpgs]\n",
    "train_scaled = train_scaled[multi_platform_cpgs]\n",
    "validation_scaled = validation_scaled[multi_platform_cpgs]"
   ]
  },
  {
   "cell_type": "markdown",
   "id": "3b0e7470-4867-418f-bc31-fa1fb5d8cbb0",
   "metadata": {},
   "source": [
    "## ElasticNet (glmnet)"
   ]
  },
  {
   "cell_type": "code",
   "execution_count": 21,
   "id": "8394cbcb-9adc-4f85-98d9-3fdfe9ddd503",
   "metadata": {},
   "outputs": [
    {
     "data": {
      "text/plain": [
       "ElasticNet(alpha=0.5, n_splits=10, random_state=1)"
      ]
     },
     "execution_count": 21,
     "metadata": {},
     "output_type": "execute_result"
    }
   ],
   "source": [
    "#fit model\n",
    "elastic_net_model = ElasticNet(alpha = 0.5, n_splits = 10, random_state = 1) \n",
    "elastic_net_model.fit(train, transform_age(train_ages))"
   ]
  },
  {
   "cell_type": "code",
   "execution_count": 22,
   "id": "7eb97398-c219-441d-914c-92576ee95505",
   "metadata": {},
   "outputs": [
    {
     "name": "stdout",
     "output_type": "stream",
     "text": [
      "number of features: 699\n"
     ]
    }
   ],
   "source": [
    "print('number of features: ' + str(np.sum(elastic_net_model.coef_ != 0)))"
   ]
  },
  {
   "cell_type": "code",
   "execution_count": 23,
   "id": "201364cf-6302-4213-ba88-566fb783889d",
   "metadata": {},
   "outputs": [],
   "source": [
    "my_cpgs = train_imp.columns[elastic_net_model.coef_ != 0]"
   ]
  },
  {
   "cell_type": "code",
   "execution_count": 26,
   "id": "224668e8-6580-4689-bad2-ba180df2ff5e",
   "metadata": {},
   "outputs": [],
   "source": [
    "#using model to predict validation data\n",
    "pred_ages = anti_transform_age(elastic_net_model.predict(validation))\n",
    "pred_ages = pd.Series(pred_ages, index = validation_index, name = 'pred_age')\n",
    "\n",
    "elastic_net_results = pd.concat([validation_info, pred_ages], axis=1, sort=False, join='inner')"
   ]
  },
  {
   "cell_type": "code",
   "execution_count": 27,
   "id": "cce2853c-d8bc-429f-a1c3-f0c8e4a03d2e",
   "metadata": {},
   "outputs": [
    {
     "name": "stdout",
     "output_type": "stream",
     "text": [
      "MAE: 3.708455310485453\n",
      "MSE: 67.98092339505624\n"
     ]
    }
   ],
   "source": [
    "#quick view of metrics:\n",
    "mae = np.median(np.abs(pred_ages - val_ages))\n",
    "mse = np.mean((pred_ages - val_ages)**2)\n",
    "print('MAE: '+ str(mae))\n",
    "print('MSE: '+ str(mse))"
   ]
  },
  {
   "cell_type": "code",
   "execution_count": 28,
   "id": "7cf66091-c488-4f67-a4ba-4e648008d694",
   "metadata": {},
   "outputs": [],
   "source": [
    "#saving results\n",
    "elastic_net_results.to_pickle('results_validation/elastic_net_revision.pkl')"
   ]
  },
  {
   "cell_type": "markdown",
   "id": "bbcb90e0-b6fe-4df7-a432-0aad37202687",
   "metadata": {},
   "source": [
    "## Random Forest"
   ]
  },
  {
   "cell_type": "code",
   "execution_count": 30,
   "id": "e8d6874b-dc4e-4ddc-8e3b-3d3331767cc6",
   "metadata": {},
   "outputs": [
    {
     "data": {
      "text/plain": [
       "RandomForestRegressor(n_jobs=7, random_state=1)"
      ]
     },
     "execution_count": 30,
     "metadata": {},
     "output_type": "execute_result"
    }
   ],
   "source": [
    "#fit model\n",
    "random_forest_model = ensemble.RandomForestRegressor(random_state = 1, n_jobs = 7)\n",
    "random_forest_model.fit(train_scaled, train_ages)"
   ]
  },
  {
   "cell_type": "code",
   "execution_count": 31,
   "id": "b066fcec-07ac-4f45-a03d-25f45bf32f4f",
   "metadata": {},
   "outputs": [],
   "source": [
    "#using model to predict validation data\n",
    "pred_ages = random_forest_model.predict(validation_scaled)\n",
    "pred_ages = pd.Series(pred_ages, index = validation_index, name = 'pred_age')\n",
    "\n",
    "random_forest_results = pd.concat([validation_info, pred_ages], axis=1, sort=False, join='inner')"
   ]
  },
  {
   "cell_type": "code",
   "execution_count": 32,
   "id": "a1ec532b-602d-4add-a332-43ff2a59ecbd",
   "metadata": {},
   "outputs": [
    {
     "name": "stdout",
     "output_type": "stream",
     "text": [
      "MAE: 6.205583333333333\n",
      "MSE: 131.12591927695794\n"
     ]
    }
   ],
   "source": [
    "#quick view of metrics:\n",
    "mae = np.median(np.abs(pred_ages - val_ages))\n",
    "mse = np.mean((pred_ages - val_ages)**2)\n",
    "print('MAE: '+ str(mae))\n",
    "print('MSE: '+ str(mse))"
   ]
  },
  {
   "cell_type": "code",
   "execution_count": 33,
   "id": "3f636ba8-e160-45b1-b6de-793a4dc02117",
   "metadata": {},
   "outputs": [],
   "source": [
    "#saving results\n",
    "random_forest_results.to_pickle('results_validation/random_forest_revision.pkl')"
   ]
  },
  {
   "cell_type": "markdown",
   "id": "f8adcac1-720c-410b-9c24-4438a7ee5fbb",
   "metadata": {},
   "source": [
    "## SVR"
   ]
  },
  {
   "cell_type": "code",
   "execution_count": 34,
   "id": "7573744e-de95-415d-8997-09d0fae08e57",
   "metadata": {},
   "outputs": [
    {
     "data": {
      "text/plain": [
       "SVR()"
      ]
     },
     "execution_count": 34,
     "metadata": {},
     "output_type": "execute_result"
    }
   ],
   "source": [
    "#fit model \n",
    "svm_model = svm.SVR()\n",
    "svm_model.fit(train_scaled, train_ages)"
   ]
  },
  {
   "cell_type": "code",
   "execution_count": 35,
   "id": "aa46e7b5-4131-4b82-b408-e67c784b8d2d",
   "metadata": {},
   "outputs": [],
   "source": [
    "#using model to predict validation data\n",
    "pred_ages = svm_model.predict(validation_scaled)\n",
    "pred_ages = pd.Series(pred_ages, index = validation_index, name = 'pred_age')\n",
    "\n",
    "svm_results = pd.concat([validation_info, pred_ages], axis=1, sort=False, join='inner')"
   ]
  },
  {
   "cell_type": "code",
   "execution_count": 36,
   "id": "6dab9b63-e2fe-478d-85c1-737d7399abc7",
   "metadata": {},
   "outputs": [
    {
     "name": "stdout",
     "output_type": "stream",
     "text": [
      "MAE: 10.902662361983179\n",
      "MSE: 280.8414721829309\n"
     ]
    }
   ],
   "source": [
    "#quick view of metrics:\n",
    "mae = np.median(np.abs(pred_ages - val_ages))\n",
    "mse = np.mean((pred_ages - val_ages)**2)\n",
    "print('MAE: '+ str(mae))\n",
    "print('MSE: '+ str(mse))"
   ]
  },
  {
   "cell_type": "code",
   "execution_count": 37,
   "id": "9ba22003-0238-4f1c-893c-bc6db583e037",
   "metadata": {},
   "outputs": [],
   "source": [
    "#saving results\n",
    "svm_results.to_pickle('results_validation/svr_revision.pkl')"
   ]
  },
  {
   "cell_type": "markdown",
   "id": "52c26758-37fd-4f7d-be34-635ecb736a98",
   "metadata": {},
   "source": [
    "## TabNet"
   ]
  },
  {
   "cell_type": "code",
   "execution_count": null,
   "id": "44d041dd-1c3c-4e7a-8dbd-eac526031e69",
   "metadata": {},
   "outputs": [],
   "source": [
    "clf = TabNetRegressor()\n",
    "clf.fit(\n",
    "    np.array(train_scaled), np.array(train_ages).reshape(-1, 1),\n",
    "    eval_set=[(np.array(validation_scaled), np.array(val_ages).reshape(-1, 1))],\n",
    "    max_epochs = 300,\n",
    "    patience = 100,\n",
    ")"
   ]
  },
  {
   "cell_type": "code",
   "execution_count": 18,
   "id": "23705e23-a320-43b0-929f-48dd23972fcb",
   "metadata": {},
   "outputs": [],
   "source": [
    "#using model to predict validation data\n",
    "pred_ages = clf.predict(np.array(validation_scaled)).flatten()\n",
    "pred_ages = pd.Series(pred_ages, index = validation_index, name = 'pred_age')\n",
    "\n",
    "tabnet_results = pd.concat([validation_info, pred_ages], axis=1, sort=False, join='inner')"
   ]
  },
  {
   "cell_type": "code",
   "execution_count": 19,
   "id": "2f6abe34-41d4-4234-b02f-25b094261f8a",
   "metadata": {},
   "outputs": [
    {
     "name": "stdout",
     "output_type": "stream",
     "text": [
      "MAE: 4.027229070663452\n",
      "MSE: 62.11345995355324\n"
     ]
    }
   ],
   "source": [
    "#quick view of metrics:\n",
    "mae = np.median(np.abs(pred_ages - val_ages))\n",
    "mse = np.mean((pred_ages - val_ages)**2)\n",
    "print('MAE: '+ str(mae))\n",
    "print('MSE: '+ str(mse))"
   ]
  },
  {
   "cell_type": "code",
   "execution_count": 20,
   "id": "846d843b-ce67-45ff-aadb-ab0e24623d67",
   "metadata": {},
   "outputs": [],
   "source": [
    "#saving results\n",
    "tabnet_results.to_pickle('results_validation/tabnet_revision.pkl')"
   ]
  },
  {
   "cell_type": "markdown",
   "id": "f9a254fb-6a8d-4972-82e4-5222d6da5059",
   "metadata": {},
   "source": [
    "### Neural Network Grid Search"
   ]
  },
  {
   "cell_type": "code",
   "execution_count": 2,
   "id": "3a2e4b08-a00e-4b14-8c73-03b60d9539c7",
   "metadata": {},
   "outputs": [
    {
     "name": "stdout",
     "output_type": "stream",
     "text": [
      "Best: -84.154633 using {'activation': 'selu', 'batch_norm': True, 'batch_size': 256, 'coeff': 0.0034, 'dropout': 0, 'epochs': 300, 'learning_rate': 0.0005, 'n_layers': 5, 'n_neurons': 32, 'noise': 0.1}\n"
     ]
    }
   ],
   "source": [
    "# Function to create model, required for KerasRegressor\n",
    "def create_model(activation = 'relu', n_neurons = 64, n_layers = 2, noise = 0, coeff = 0, dropout = 0, batch_norm = False,learning_rate = 0.0001):\n",
    "    \n",
    "    if activation == 'relu':\n",
    "        initializer = tf.keras.initializers.HeNormal(seed=1)\n",
    "    elif activation == 'selu':\n",
    "        initializer = tf.keras.initializers.LecunNormal(seed=1)\n",
    "    \n",
    "    model = Sequential()\n",
    "    \n",
    "    if batch_norm:\n",
    "        model.add(BatchNormalization())\n",
    "    model.add(ActivityRegularization(, 10*coeff))\n",
    "    model.add(GaussianDropout(noise))\n",
    "    \n",
    "    for _ in range(n_layers-1):\n",
    "        model.add(Dense(n_neurons, activation = activation, kernel_initializer = initializer, kernel_regularizer=tf.keras.regularizers.l1_l2(0, coeff*2)))\n",
    "        if batch_norm:\n",
    "            model.add(BatchNormalization())\n",
    "        model.add(GaussianDropout(noise))\n",
    "        model.add(ActivityRegularization(0, 0))\n",
    "        model.add(Dropout(dropout))\n",
    "        \n",
    "    model.add(Dense(n_neurons, activation = activation, kernel_initializer = initializer, kernel_regularizer=tf.keras.regularizers.l1_l2(0, coeff*2)))\n",
    "    if batch_norm:\n",
    "        model.add(BatchNormalization())\n",
    "    model.add(Dense(1))\n",
    "    \n",
    "    # Compile model\n",
    "    optimizer = tf.keras.optimizers.Adam(learning_rate=learning_rate)\n",
    "    model.compile(loss='mse',\n",
    "                  metrics = ['mae'],\n",
    "                  optimizer = optimizer)\n",
    "    return model\n",
    "# fix random seed for reproducibility\n",
    "np.random.seed(1)\n",
    "# create model\n",
    "model = KerasRegressor(build_fn=create_model, verbose=0)\n",
    "# define the grid search parameters\n",
    "activation = ['relu', 'selu']\n",
    "n_neurons = [32, 64,]\n",
    "n_layers = [2, 5, 8]\n",
    "coeff = [0.0034, 0.0034*3]\n",
    "dropout = [0, 0.1]\n",
    "noise = [0, 0.1]\n",
    "batch_norm = [False, True]\n",
    "learning_rate = [0.0002, 0.0005]\n",
    "batch_size = [256] \n",
    "epochs = [300]\n",
    "param_grid = dict(activation=activation, noise=noise, n_neurons=n_neurons, n_layers=n_layers, dropout=dropout, batch_norm=batch_norm, learning_rate=learning_rate, coeff=coeff, batch_size=batch_size, epochs=epochs)\n",
    "ps = PredefinedSplit(np.concatenate([[-1]*train_scaled.shape[0], [1]*validation_scaled.shape[0]]))\n",
    "grid = GridSearchCV(estimator=model, param_grid=param_grid, n_jobs=-1, cv=ps)\n",
    "es = tf.keras.callbacks.EarlyStopping(monitor='loss', mode='min', verbose=0, patience=100)\n",
    "grid_result = grid.fit(np.concatenate([train_scaled, validation_scaled]), np.concatenate([train_ages, val_ages]), callbacks = [es])\n",
    "# summarize results\n",
    "print(\"Best: %f using %s\" % (grid_result.best_score_, grid_result.best_params_))\n",
    "means = grid_result.cv_results_['mean_test_score']\n",
    "params = grid_result.cv_results_['params']"
   ]
  },
  {
   "cell_type": "markdown",
   "id": "d92a1c96-1797-4e44-b31c-da218f3306d3",
   "metadata": {},
   "source": [
    "## AltumAge"
   ]
  },
  {
   "cell_type": "code",
   "execution_count": 32,
   "id": "d62bb527-0e18-43ed-90a0-5abba039dda3",
   "metadata": {},
   "outputs": [],
   "source": [
    "#neural network architecture\n",
    "coeff = 0.05 * np.sqrt(2.0 * np.log(train_scaled.shape[1]) / train_scaled.shape[0]) \n",
    "noise = 0.1\n",
    "initializer = tf.keras.initializers.LecunNormal(seed=1)\n",
    "nn_model = Sequential([\n",
    "    Input(shape=(20318,), name = 'feature'),\n",
    "    BatchNormalization(),\n",
    "    GaussianDropout(noise),\n",
    "    ActivityRegularization(0, coeff*10),\n",
    "    Dense(32, kernel_initializer = initializer, kernel_regularizer=tf.keras.regularizers.l1_l2(0, coeff*2)),\n",
    "    Activation('selu'),\n",
    "    BatchNormalization(),\n",
    "    GaussianDropout(noise),\n",
    "    ActivityRegularization(0, 0),\n",
    "    Dense(32, kernel_initializer = initializer, kernel_regularizer=tf.keras.regularizers.l1_l2(0, coeff*2)),\n",
    "    Activation('selu'),\n",
    "    BatchNormalization(),\n",
    "    GaussianDropout(noise),\n",
    "    ActivityRegularization(0, 0),\n",
    "    Dense(32, kernel_initializer = initializer, kernel_regularizer=tf.keras.regularizers.l1_l2(0, coeff*2)),\n",
    "    Activation('selu'),\n",
    "    BatchNormalization(),\n",
    "    GaussianDropout(noise),\n",
    "    ActivityRegularization(0, 0),\n",
    "    Dense(32, kernel_initializer = initializer, kernel_regularizer=tf.keras.regularizers.l1_l2(0, coeff*2)),\n",
    "    Activation('selu'),\n",
    "    BatchNormalization(),\n",
    "    GaussianDropout(noise),\n",
    "    ActivityRegularization(0, 0),\n",
    "    Dense(32, kernel_initializer = initializer, kernel_regularizer=tf.keras.regularizers.l1_l2(0, coeff*2)),\n",
    "    Activation('selu'),\n",
    "    BatchNormalization(),\n",
    "    Dense(1)\n",
    "])"
   ]
  },
  {
   "cell_type": "code",
   "execution_count": 33,
   "id": "05881599-2391-488b-8636-2b49fd8587a1",
   "metadata": {},
   "outputs": [],
   "source": [
    "checkpoint_filepath = '/tmp/checkpoint'\n",
    "model_checkpoint_callback = tf.keras.callbacks.ModelCheckpoint(\n",
    "    filepath=checkpoint_filepath,\n",
    "    save_weights_only=True,\n",
    "    monitor='loss',\n",
    "    mode='min',\n",
    "    save_best_only=True)"
   ]
  },
  {
   "cell_type": "code",
   "execution_count": 34,
   "id": "881f05b6-ef34-4f0b-b12f-7ffc2c35cde0",
   "metadata": {},
   "outputs": [
    {
     "data": {
      "text/plain": [
       "<tensorflow.python.training.tracking.util.CheckpointLoadStatus at 0x298f9ffd0>"
      ]
     },
     "execution_count": 34,
     "metadata": {},
     "output_type": "execute_result"
    }
   ],
   "source": [
    "reduce_lr = tf.keras.callbacks.ReduceLROnPlateau(monitor='loss', factor=0.2,\n",
    "                              patience=30, min_lr=0.00001)\n",
    "\n",
    "adv_config = nsl.configs.make_adv_reg_config(multiplier=0.05, adv_step_size=0.005)\n",
    "adv_model = nsl.keras.AdversarialRegularization(nn_model, adv_config=adv_config)\n",
    "\n",
    "optimizer = tf.keras.optimizers.Adam(learning_rate=0.002, beta_1=0.9, beta_2=0.999, epsilon=1e-07)\n",
    "\n",
    "# Compile, train, and evaluate.\n",
    "adv_model.compile(optimizer=optimizer,\n",
    "                  loss='mse',\n",
    "                  metrics=['mae'])\n",
    "\n",
    "history = adv_model.fit({'feature': np.array(train_scaled), 'label': np.array(train_ages)}, \n",
    "                validation_data = {'feature': np.array(validation_scaled), 'label': np.array(val_ages)},\n",
    "                batch_size=256, \n",
    "                epochs=300,\n",
    "                verbose=0,\n",
    "                callbacks=[model_checkpoint_callback, reduce_lr])\n",
    "\n",
    "adv_model.load_weights(checkpoint_filepath)"
   ]
  },
  {
   "cell_type": "code",
   "execution_count": 35,
   "id": "01d263fb-b6b7-4e53-aabf-a775bd858fdd",
   "metadata": {},
   "outputs": [
    {
     "data": {
      "image/png": "[encoded data removed]",
      "text/plain": [
       "<Figure size 432x288 with 1 Axes>"
      ]
     },
     "metadata": {
      "needs_background": "light"
     },
     "output_type": "display_data"
    }
   ],
   "source": [
    "#plot results\n",
    "matplotlib.pyplot.ylim(0,150)\n",
    "plotter = tfdocs.plots.HistoryPlotter(metric = 'loss')\n",
    "plotter.plot({'nn':history})"
   ]
  },
  {
   "cell_type": "code",
   "execution_count": 48,
   "id": "8da97066-d8fa-4fdb-9171-4ed1ff0d888d",
   "metadata": {},
   "outputs": [],
   "source": [
    "#using model to predict validation data\n",
    "pred_ages = adv_model.base_model.predict(validation_scaled).flatten()\n",
    "pred_ages = pd.Series(pred_ages, index = validation_index, name = 'pred_age')\n",
    "\n",
    "nn_results = pd.concat([validation_info, pred_ages], axis=1, sort=False, join='inner')"
   ]
  },
  {
   "cell_type": "code",
   "execution_count": 49,
   "id": "a77bb1e4-b60c-4c84-96c9-f15fb137f126",
   "metadata": {},
   "outputs": [
    {
     "name": "stdout",
     "output_type": "stream",
     "text": [
      "MAE: 3.33721303025337\n",
      "MSE: 59.71153421212114\n"
     ]
    }
   ],
   "source": [
    "#quick view of metrics: #with BN right before Dense(1) and Activity Reg in all layers 0.1 noise position changed 0.001 lr\n",
    "mae = np.median(np.abs(pred_ages - val_ages))\n",
    "mse = np.mean((pred_ages - val_ages)**2)\n",
    "print('MAE: '+ str(mae))\n",
    "print('MSE: '+ str(mse))"
   ]
  },
  {
   "cell_type": "code",
   "execution_count": 50,
   "id": "e1d0af1a-5a5c-4bc7-be31-08d4bbd42564",
   "metadata": {},
   "outputs": [],
   "source": [
    "#saving results\n",
    "nn_results.to_pickle('results_validation/altum_age_revision.pkl')"
   ]
  },
  {
   "cell_type": "markdown",
   "id": "44e5694e-c292-4dee-9aee-925f229ece02",
   "metadata": {},
   "source": [
    "## AltumAge Reduced (ElasticNet CpGs)"
   ]
  },
  {
   "cell_type": "code",
   "execution_count": 51,
   "id": "bd5a07e1-adf3-499b-93b5-ba1529b3ebc0",
   "metadata": {},
   "outputs": [],
   "source": [
    "#neural network architecture\n",
    "coeff = 0.05 * np.sqrt(2.0 * np.log(train_scaled.shape[1]) / train_scaled.shape[0]) \n",
    "noise = 0.1\n",
    "initializer = tf.keras.initializers.LecunNormal(seed=1)\n",
    "nn_model = Sequential([\n",
    "    Input(shape=(699,), name = 'feature'),\n",
    "    BatchNormalization(),\n",
    "    GaussianDropout(noise),\n",
    "    ActivityRegularization(0, coeff*10),\n",
    "    Dense(32, kernel_initializer = initializer, kernel_regularizer=tf.keras.regularizers.l1_l2(0, coeff*2)),\n",
    "    Activation('selu'),\n",
    "    BatchNormalization(),\n",
    "    GaussianDropout(noise),\n",
    "    ActivityRegularization(0, 0),\n",
    "    Dense(32, kernel_initializer = initializer, kernel_regularizer=tf.keras.regularizers.l1_l2(0, coeff*2)),\n",
    "    Activation('selu'),\n",
    "    BatchNormalization(),\n",
    "    GaussianDropout(noise),\n",
    "    ActivityRegularization(0, 0),\n",
    "    Dense(32, kernel_initializer = initializer, kernel_regularizer=tf.keras.regularizers.l1_l2(0, coeff*2)),\n",
    "    Activation('selu'),\n",
    "    BatchNormalization(),\n",
    "    GaussianDropout(noise),\n",
    "    ActivityRegularization(0, 0),\n",
    "    Dense(32, kernel_initializer = initializer, kernel_regularizer=tf.keras.regularizers.l1_l2(0, coeff*2)),\n",
    "    Activation('selu'),\n",
    "    BatchNormalization(),\n",
    "    GaussianDropout(noise),\n",
    "    ActivityRegularization(0, 0),\n",
    "    Dense(32, kernel_initializer = initializer, kernel_regularizer=tf.keras.regularizers.l1_l2(0, coeff*2)),\n",
    "    Activation('selu'),\n",
    "    BatchNormalization(),\n",
    "    Dense(1)\n",
    "])"
   ]
  },
  {
   "cell_type": "code",
   "execution_count": 52,
   "id": "bbd5db84-a170-4c3b-8885-9dc23004e1a9",
   "metadata": {},
   "outputs": [],
   "source": [
    "checkpoint_filepath = '/tmp/checkpoint'\n",
    "model_checkpoint_callback = tf.keras.callbacks.ModelCheckpoint(\n",
    "    filepath=checkpoint_filepath,\n",
    "    save_weights_only=True,\n",
    "    monitor='loss',\n",
    "    mode='min',\n",
    "    save_best_only=True)"
   ]
  },
  {
   "cell_type": "code",
   "execution_count": null,
   "id": "3a63c4f8-144f-49de-8660-cdddf9121552",
   "metadata": {},
   "outputs": [
    {
     "data": {
      "text/plain": [
       "<tensorflow.python.training.tracking.util.CheckpointLoadStatus at 0x299211220>"
      ]
     },
     "execution_count": 53,
     "metadata": {},
     "output_type": "execute_result"
    }
   ],
   "source": [
    "reduce_lr = tf.keras.callbacks.ReduceLROnPlateau(monitor='loss', factor=0.2,\n",
    "                              patience=30, min_lr=0.00001)\n",
    "\n",
    "adv_config = nsl.configs.make_adv_reg_config(multiplier=0.05, adv_step_size=0.005)\n",
    "adv_model = nsl.keras.AdversarialRegularization(nn_model, adv_config=adv_config)\n",
    "\n",
    "optimizer = tf.keras.optimizers.Adam(learning_rate=0.002, beta_1=0.9, beta_2=0.999, epsilon=1e-07)\n",
    "\n",
    "# Compile, train, and evaluate.\n",
    "adv_model.compile(optimizer=optimizer,\n",
    "                  loss='mse',\n",
    "                  metrics=['mae'])\n",
    "\n",
    "history = adv_model.fit({'feature': np.array(train_scaled[my_cpgs]), 'label': np.array(train_ages)}, \n",
    "                validation_data = {'feature': np.array(validation_scaled[my_cpgs]), 'label': np.array(val_ages)},\n",
    "                batch_size=256, \n",
    "                epochs=300,\n",
    "                verbose=0,\n",
    "                callbacks=[model_checkpoint_callback, reduce_lr])\n",
    "\n",
    "adv_model.load_weights(checkpoint_filepath)"
   ]
  },
  {
   "cell_type": "code",
   "execution_count": null,
   "id": "85dd0a40-5ec1-4a62-abd3-d5dd0920245d",
   "metadata": {},
   "outputs": [
    {
     "data": {
      "image/png": "[encoded data removed]",
      "text/plain": [
       "<Figure size 432x288 with 1 Axes>"
      ]
     },
     "metadata": {
      "needs_background": "light"
     },
     "output_type": "display_data"
    }
   ],
   "source": [
    "#plot results\n",
    "matplotlib.pyplot.ylim(0,150)\n",
    "plotter = tfdocs.plots.HistoryPlotter(metric = 'loss')\n",
    "plotter.plot({'nn':history})"
   ]
  },
  {
   "cell_type": "code",
   "execution_count": 59,
   "id": "66b3e152-97df-4da2-bca9-52246bddc7cc",
   "metadata": {},
   "outputs": [],
   "source": [
    "#using model to predict validation data\n",
    "pred_ages = adv_model.base_model.predict(validation_scaled[my_cpgs]).flatten()\n",
    "pred_ages = pd.Series(pred_ages, index = validation_index, name = 'pred_age')\n",
    "\n",
    "nn_results = pd.concat([validation_info, pred_ages], axis=1, sort=False, join='inner')"
   ]
  },
  {
   "cell_type": "code",
   "execution_count": null,
   "id": "4aa5f3ae-1a83-4f9d-b247-9c8dfe926bc9",
   "metadata": {},
   "outputs": [
    {
     "name": "stdout",
     "output_type": "stream",
     "text": [
      "MAE: 3.5162574185809383\n",
      "MSE: 61.20245047021402\n"
     ]
    }
   ],
   "source": [
    "#quick view of metrics: #with BN right before Dense(1) and Activity Reg in all layers 0.1 noise position changed 0.001 lr\n",
    "mae = np.median(np.abs(pred_ages - val_ages))\n",
    "mse = np.mean((pred_ages - val_ages)**2)\n",
    "print('MAE: '+ str(mae))\n",
    "print('MSE: '+ str(mse))"
   ]
  },
  {
   "cell_type": "code",
   "execution_count": 61,
   "id": "074e7353-301f-42ed-a147-1d9d6bd1d65e",
   "metadata": {},
   "outputs": [],
   "source": [
    "#saving results\n",
    "nn_results.to_pickle('results_validation/altum_age_reduced_revision.pkl')"
   ]
  },
  {
   "cell_type": "markdown",
   "id": "e384ee84-e937-4958-920e-a23c8ed9553a",
   "metadata": {},
   "source": [
    "### _________________________________________________________________________________________________________"
   ]
  },
  {
   "cell_type": "markdown",
   "id": "ef9b5820-2db9-44da-9ee5-61a532196001",
   "metadata": {},
   "source": [
    "## Final Model Prediction"
   ]
  },
  {
   "cell_type": "code",
   "execution_count": 8,
   "id": "f6c28788-d887-435b-91f0-7b62501c6dee",
   "metadata": {},
   "outputs": [],
   "source": [
    "#load all train data for model training\n",
    "count = 0   \n",
    "for dataset in all_data:\n",
    "    print(dataset)\n",
    "    if count == 0:\n",
    "        train = pd.read_pickle('./data_train/' + dataset + '.pkl')\n",
    "        count += 1\n",
    "    else:\n",
    "        new_df = pd.read_pickle('./data_train/' + dataset + '.pkl')\n",
    "        train = pd.concat([train, new_df], join ='inner')\n",
    "        gc.collect()\n",
    "    clear_output()"
   ]
  },
  {
   "cell_type": "code",
   "execution_count": 9,
   "id": "f2ff0c0b-a081-4f62-9d66-f6ae0eec143c",
   "metadata": {},
   "outputs": [],
   "source": [
    "#load all test data\n",
    "count = 0   \n",
    "for dataset in all_data:\n",
    "    print(dataset)\n",
    "    if count == 0:\n",
    "        test = pd.read_pickle('./data_test/' + dataset + '.pkl')\n",
    "        count += 1\n",
    "    else:\n",
    "        new_df = pd.read_pickle('./data_test/' + dataset + '.pkl')\n",
    "        test = pd.concat([test, new_df], join ='inner')\n",
    "        gc.collect()\n",
    "    clear_output()"
   ]
  },
  {
   "cell_type": "code",
   "execution_count": 10,
   "id": "8508e0df-1e27-46b8-afd4-775b5d0ceb50",
   "metadata": {},
   "outputs": [],
   "source": [
    "#load all cancer data\n",
    "count = 0   \n",
    "for dataset in cancer_data:\n",
    "    print(dataset)\n",
    "    if count == 0:\n",
    "        cancer = pd.read_pickle('./cancer_norm_pkl/' + dataset + '.pkl')\n",
    "        count += 1\n",
    "    else:\n",
    "        new_df = pd.read_pickle('./cancer_norm_pkl/' + dataset + '.pkl')\n",
    "        cancer = pd.concat([cancer, new_df], join ='inner')\n",
    "        gc.collect()\n",
    "    clear_output()"
   ]
  },
  {
   "cell_type": "code",
   "execution_count": 11,
   "id": "8b103b4f-636f-49fb-a3e0-31eae49c78c2",
   "metadata": {},
   "outputs": [],
   "source": [
    "#extracting age and removing unimportant columns\n",
    "train_ages = train['age'].astype('float64')\n",
    "test_ages = test['age'].astype('float64')\n",
    "cancer_ages = cancer['age'].astype('float64')\n",
    "\n",
    "train_info = train[['dataset', 'tissue_type', 'age', 'gender']]\n",
    "test_info = test[['dataset', 'tissue_type', 'age', 'gender']]\n",
    "cancer_info = cancer[['dataset', 'tissue_type', 'age', 'gender']]\n",
    "\n",
    "train = train.drop(columns = ['dataset', 'tissue_type', 'age', 'gender'], axis=0)\n",
    "test = test.drop(columns = ['dataset', 'tissue_type', 'age', 'gender'], axis=0)\n",
    "cancer = cancer.drop(columns = ['dataset', 'tissue_type', 'age', 'gender'], axis=0)"
   ]
  },
  {
   "cell_type": "code",
   "execution_count": 66,
   "id": "8045eeaf-4aba-45e0-8290-7eea59de783e",
   "metadata": {},
   "outputs": [
    {
     "name": "stdout",
     "output_type": "stream",
     "text": [
      "(8050, 21368)\n",
      "(5455, 21368)\n"
     ]
    }
   ],
   "source": [
    "print(train.shape)\n",
    "print(test.shape)"
   ]
  },
  {
   "cell_type": "code",
   "execution_count": 12,
   "id": "f78623ac-7efc-4255-9332-594b956460bc",
   "metadata": {},
   "outputs": [],
   "source": [
    "#save names of columns and indexes\n",
    "train_cols = train.columns\n",
    "train_index = train.index\n",
    "\n",
    "test_cols = test.columns\n",
    "test_index = test.index\n",
    "\n",
    "cancer_cols = cancer.columns\n",
    "cancer_index = cancer.index"
   ]
  },
  {
   "cell_type": "code",
   "execution_count": 13,
   "id": "4d36c4d5-69e5-4c5f-b080-31a3a03589e9",
   "metadata": {},
   "outputs": [],
   "source": [
    "#scaling the regular data so each columns has 0 mean and variance 1\n",
    "scaler = preprocessing.RobustScaler()\n",
    "\n",
    "train_scaled = pd.DataFrame(scaler.fit_transform(train), index = train_index, columns = train_cols)\n",
    "test_scaled = pd.DataFrame(scaler.transform(test), index = test_index, columns = test_cols)\n",
    "cancer_scaled = pd.DataFrame(scaler.transform(cancer), index = cancer_index, columns = cancer_cols)"
   ]
  },
  {
   "cell_type": "markdown",
   "id": "a384274c-f87a-4278-b0c2-6baf0d3dd8d5",
   "metadata": {
    "tags": []
   },
   "source": [
    "## Horvath"
   ]
  },
  {
   "cell_type": "code",
   "execution_count": 71,
   "id": "1bc9a373-ba49-45a9-a240-944d2d080f70",
   "metadata": {},
   "outputs": [
    {
     "name": "stderr",
     "output_type": "stream",
     "text": [
      "/Users/lucascamillo/mambaforge/envs/singh_lab/lib/python3.9/site-packages/sklearn/base.py:438: UserWarning: X has feature names, but LinearRegression was fitted without feature names\n",
      "  warnings.warn(\n",
      "/Users/lucascamillo/mambaforge/envs/singh_lab/lib/python3.9/site-packages/sklearn/base.py:438: UserWarning: X has feature names, but LinearRegression was fitted without feature names\n",
      "  warnings.warn(\n",
      "/Users/lucascamillo/mambaforge/envs/singh_lab/lib/python3.9/site-packages/sklearn/base.py:438: UserWarning: X has feature names, but LinearRegression was fitted without feature names\n",
      "  warnings.warn(\n"
     ]
    }
   ],
   "source": [
    "#using model to predict train and test data\n",
    "pred_ages_train = anti_transform_age(horvath_model.predict(train[horvath_cpgs]))\n",
    "pred_ages_train = pd.Series(pred_ages_train, index = train_index, name = 'pred_age')\n",
    "\n",
    "horvath_results_train = pd.concat([train_info, pred_ages_train], axis=1, sort=False, join='inner')\n",
    "\n",
    "pred_ages_test = anti_transform_age(horvath_model.predict(test[horvath_cpgs]))\n",
    "pred_ages_test = pd.Series(pred_ages_test, index = test_index, name = 'pred_age')\n",
    "\n",
    "horvath_results_test = pd.concat([test_info, pred_ages_test], axis=1, sort=False, join='inner')\n",
    "\n",
    "pred_ages_cancer = anti_transform_age(horvath_model.predict(cancer[horvath_cpgs]))\n",
    "pred_ages_cancer = pd.Series(pred_ages_cancer, index = cancer_index, name = 'pred_age')\n",
    "\n",
    "horvath_results_cancer = pd.concat([cancer_info, pred_ages_cancer], axis=1, sort=False, join='inner')"
   ]
  },
  {
   "cell_type": "code",
   "execution_count": 46,
   "id": "a1fe5a4a-0fcc-4d82-802f-67fc15260b6e",
   "metadata": {},
   "outputs": [
    {
     "name": "stdout",
     "output_type": "stream",
     "text": [
      "MAE: 3.5304100228805666\n",
      "MSE: 71.03074973735843\n"
     ]
    }
   ],
   "source": [
    "#quick view of metrics:\n",
    "mae = np.median(np.abs(pred_ages_test - test_ages))\n",
    "mse = np.mean((pred_ages_test - test_ages)**2)\n",
    "print('MAE: '+ str(mae))\n",
    "print('MSE: '+ str(mse))"
   ]
  },
  {
   "cell_type": "code",
   "execution_count": 47,
   "id": "6c36c4bb-d8e9-4982-b469-9e14a3d7d1c9",
   "metadata": {},
   "outputs": [],
   "source": [
    "#saving results\n",
    "horvath_results_train.to_pickle('results_train/horvath_revision.pkl')\n",
    "horvath_results_test.to_pickle('results_test/horvath_revision.pkl')\n",
    "horvath_results_cancer.to_pickle('results_cancer/horvath_revision.pkl')"
   ]
  },
  {
   "cell_type": "markdown",
   "id": "561d1ce8-4a53-44bf-be00-941c9a8fb211",
   "metadata": {
    "tags": []
   },
   "source": [
    "## Linear Regression 353 CpGs"
   ]
  },
  {
   "cell_type": "code",
   "execution_count": 48,
   "id": "8074bdb8-5e38-4dce-8817-202c5ce3b9fb",
   "metadata": {},
   "outputs": [
    {
     "data": {
      "text/plain": [
       "LinearRegression()"
      ]
     },
     "execution_count": 48,
     "metadata": {},
     "output_type": "execute_result"
    }
   ],
   "source": [
    "#fit model\n",
    "linear_regression_model = linear_model.LinearRegression() \n",
    "linear_regression_model.fit(train[horvath_cpgs], transform_age(train_ages))"
   ]
  },
  {
   "cell_type": "code",
   "execution_count": 49,
   "id": "b06f7ad6-522c-4ded-92b3-812c20778325",
   "metadata": {},
   "outputs": [],
   "source": [
    "#using model to predict train and test data\n",
    "pred_ages_train = anti_transform_age(linear_regression_model.predict(train[horvath_cpgs]))\n",
    "pred_ages_train = pd.Series(pred_ages_train, index = train_index, name = 'pred_age')\n",
    "\n",
    "linear_regression_results_train = pd.concat([train_info, pred_ages_train], axis=1, sort=False, join='inner')\n",
    "\n",
    "pred_ages_test = anti_transform_age(linear_regression_model.predict(test[horvath_cpgs]))\n",
    "pred_ages_test = pd.Series(pred_ages_test, index = test_index, name = 'pred_age')\n",
    "\n",
    "linear_regression_results_test = pd.concat([test_info, pred_ages_test], axis=1, sort=False, join='inner')"
   ]
  },
  {
   "cell_type": "code",
   "execution_count": 50,
   "id": "65c45f79-2503-45a6-89f1-446a4225e2d8",
   "metadata": {},
   "outputs": [
    {
     "name": "stdout",
     "output_type": "stream",
     "text": [
      "MAE: 3.0111988366546925\n",
      "MSE: 46.8666558764343\n"
     ]
    }
   ],
   "source": [
    "#quick view of metrics:\n",
    "mae = np.median(np.abs(pred_ages_test - test_ages))\n",
    "mse = np.mean((pred_ages_test - test_ages)**2)\n",
    "print('MAE: '+ str(mae))\n",
    "print('MSE: '+ str(mse))"
   ]
  },
  {
   "cell_type": "code",
   "execution_count": 51,
   "id": "bc0af3a3-d7fe-4805-849c-24f2a2208e54",
   "metadata": {},
   "outputs": [],
   "source": [
    "#saving results\n",
    "linear_regression_results_train.to_pickle('results_train/linear_regression_353_revision.pkl')\n",
    "linear_regression_results_test.to_pickle('results_test/linear_regression_353_revision.pkl')"
   ]
  },
  {
   "cell_type": "markdown",
   "id": "e9ea16ea-7fb1-4cdf-892b-9147b7407000",
   "metadata": {
    "tags": []
   },
   "source": [
    "## AltumAge 353"
   ]
  },
  {
   "cell_type": "code",
   "execution_count": 52,
   "id": "6122a664-501a-47ab-8ef1-eee45d9d2efb",
   "metadata": {},
   "outputs": [],
   "source": [
    "#neural network architecture\n",
    "coeff = 0.05 * np.sqrt(2.0 * np.log(train_scaled.shape[1]) / train_scaled.shape[0]) \n",
    "noise = 0.1\n",
    "initializer = tf.keras.initializers.LecunNormal(seed=1)\n",
    "nn_model = Sequential([\n",
    "    Input(shape=(353,), name = 'feature'),\n",
    "    BatchNormalization(),\n",
    "    GaussianDropout(noise),\n",
    "    ActivityRegularization(coeff*5, coeff*5),\n",
    "    Dense(32, kernel_initializer = initializer, kernel_regularizer=tf.keras.regularizers.l1_l2(coeff, coeff)),\n",
    "    Activation('selu'),\n",
    "    BatchNormalization(),\n",
    "    GaussianDropout(noise),\n",
    "    ActivityRegularization(0, 0),\n",
    "    Dense(32, kernel_initializer = initializer, kernel_regularizer=tf.keras.regularizers.l1_l2(coeff, coeff)),\n",
    "    Activation('selu'),\n",
    "    BatchNormalization(),\n",
    "    GaussianDropout(noise),\n",
    "    ActivityRegularization(0, 0),\n",
    "    Dense(32, kernel_initializer = initializer, kernel_regularizer=tf.keras.regularizers.l1_l2(coeff, coeff)),\n",
    "    Activation('selu'),\n",
    "    BatchNormalization(),\n",
    "    GaussianDropout(noise),\n",
    "    ActivityRegularization(0, 0),\n",
    "    Dense(32, kernel_initializer = initializer, kernel_regularizer=tf.keras.regularizers.l1_l2(coeff, coeff)),\n",
    "    Activation('selu'),\n",
    "    BatchNormalization(),\n",
    "    GaussianDropout(noise),\n",
    "    ActivityRegularization(0, 0),\n",
    "    Dense(32, kernel_initializer = initializer, kernel_regularizer=tf.keras.regularizers.l1_l2(coeff, coeff)),\n",
    "    Activation('selu'),\n",
    "    BatchNormalization(),\n",
    "    Dense(1)\n",
    "])"
   ]
  },
  {
   "cell_type": "code",
   "execution_count": 53,
   "id": "16c2835c-8c7b-4c22-8252-32cb71088e9a",
   "metadata": {},
   "outputs": [],
   "source": [
    "checkpoint_filepath = '/tmp/checkpoint'\n",
    "model_checkpoint_callback = tf.keras.callbacks.ModelCheckpoint(\n",
    "    filepath=checkpoint_filepath,\n",
    "    save_weights_only=True,\n",
    "    monitor='loss',\n",
    "    mode='min',\n",
    "    save_best_only=True)"
   ]
  },
  {
   "cell_type": "code",
   "execution_count": 54,
   "id": "9e6adb13-f903-4ffb-a031-af570bc1e42b",
   "metadata": {},
   "outputs": [],
   "source": [
    "random.seed(1)\n",
    "tf.random.set_seed(1)\n",
    "np.random.seed(1)"
   ]
  },
  {
   "cell_type": "code",
   "execution_count": null,
   "id": "4d103f0d-5bdb-4d36-8689-72417fd09028",
   "metadata": {},
   "outputs": [],
   "source": [
    "reduce_lr = tf.keras.callbacks.ReduceLROnPlateau(monitor='loss', factor=0.2,\n",
    "                              patience=30, min_lr=0.00001)\n",
    "\n",
    "adv_config = nsl.configs.make_adv_reg_config(multiplier=0.05, adv_step_size=0.005)\n",
    "adv_model = nsl.keras.AdversarialRegularization(nn_model, adv_config=adv_config)\n",
    "\n",
    "optimizer = tf.keras.optimizers.Adam(learning_rate=0.002, beta_1=0.9, beta_2=0.999, epsilon=1e-07)\n",
    "\n",
    "# Compile, train, and evaluate.\n",
    "adv_model.compile(optimizer=optimizer,\n",
    "                  loss='mse',\n",
    "                  metrics=['mae'])\n",
    "\n",
    "history = adv_model.fit({'feature': np.array(train_scaled[horvath_cpgs]), 'label': np.array(train_ages)}, \n",
    "                batch_size=256, \n",
    "                epochs=300,\n",
    "                verbose=0,\n",
    "                callbacks=[model_checkpoint_callback, reduce_lr])\n",
    "\n",
    "adv_model.load_weights(checkpoint_filepath)"
   ]
  },
  {
   "cell_type": "code",
   "execution_count": 56,
   "id": "7eccac4a-b610-4843-81ba-7e858c6ae617",
   "metadata": {},
   "outputs": [],
   "source": [
    "#using model to predict train and test data\n",
    "pred_ages_train = adv_model.base_model.predict(train_scaled[horvath_cpgs]).flatten()\n",
    "pred_ages_train = pd.Series(pred_ages_train, index = train_index, name = 'pred_age')\n",
    "\n",
    "nn_results_train = pd.concat([train_info, pred_ages_train], axis=1, sort=False, join='inner')\n",
    "\n",
    "pred_ages_test = adv_model.base_model.predict(test_scaled[horvath_cpgs]).flatten()\n",
    "pred_ages_test = pd.Series(pred_ages_test, index = test_index, name = 'pred_age')\n",
    "\n",
    "nn_results_test = pd.concat([test_info, pred_ages_test], axis=1, sort=False, join='inner')\n",
    "\n",
    "pred_ages_cancer = adv_model.base_model.predict(cancer_scaled[horvath_cpgs]).flatten()\n",
    "pred_ages_cancer = pd.Series(pred_ages_cancer, index = cancer_index, name = 'pred_age')\n",
    "\n",
    "nn_results_cancer = pd.concat([cancer_info, pred_ages_cancer], axis=1, sort=False, join='inner')"
   ]
  },
  {
   "cell_type": "code",
   "execution_count": 57,
   "id": "4e2d3d9f-a960-43d4-991d-4b998d0d0483",
   "metadata": {},
   "outputs": [
    {
     "name": "stdout",
     "output_type": "stream",
     "text": [
      "MAE: 2.425426483154297\n",
      "MSE: 32.732499437013516\n"
     ]
    }
   ],
   "source": [
    "#quick view of metrics:\n",
    "mae = np.median(np.abs(pred_ages_test - test_ages))\n",
    "mse = np.mean((pred_ages_test - test_ages)**2)\n",
    "print('MAE: '+ str(mae))\n",
    "print('MSE: '+ str(mse))"
   ]
  },
  {
   "cell_type": "code",
   "execution_count": 58,
   "id": "226088c2-c2ab-4af3-bf92-99fc52465edc",
   "metadata": {},
   "outputs": [],
   "source": [
    "#saving results\n",
    "nn_results_train.to_pickle('results_train/altum_age_353_revision.pkl')\n",
    "nn_results_test.to_pickle('results_test/altum_age_353_revision.pkl')\n",
    "nn_results_cancer.to_pickle('results_cancer/altum_age_353_revision.pkl')"
   ]
  },
  {
   "cell_type": "markdown",
   "id": "24c3af9a-19a0-46a3-a4c0-f1d5a035ec75",
   "metadata": {},
   "source": [
    "### Select only CpGs common to all 3 platforms"
   ]
  },
  {
   "cell_type": "code",
   "execution_count": 19,
   "id": "ca8eeedf-5cb6-4a66-92ec-ea1ed49dd044",
   "metadata": {
    "tags": []
   },
   "outputs": [],
   "source": [
    "train = train[multi_platform_cpgs]\n",
    "test = test[multi_platform_cpgs]\n",
    "cancer = cancer[multi_platform_cpgs]\n",
    "train_scaled = train_scaled[multi_platform_cpgs]\n",
    "test_scaled = test_scaled[multi_platform_cpgs]\n",
    "cancer_scaled = cancer_scaled[multi_platform_cpgs]"
   ]
  },
  {
   "cell_type": "markdown",
   "id": "26251069-d4aa-45fd-8ee8-df605353babf",
   "metadata": {
    "tags": []
   },
   "source": [
    "## Linear Regression all CpGs"
   ]
  },
  {
   "cell_type": "code",
   "execution_count": 60,
   "id": "458a8b4c-342a-4e5d-a178-3112d2a06c6a",
   "metadata": {},
   "outputs": [
    {
     "data": {
      "text/plain": [
       "LinearRegression()"
      ]
     },
     "execution_count": 60,
     "metadata": {},
     "output_type": "execute_result"
    }
   ],
   "source": [
    "#fit model\n",
    "linear_regression_model = linear_model.LinearRegression() \n",
    "linear_regression_model.fit(train_imp, transform_age(train_ages))"
   ]
  },
  {
   "cell_type": "code",
   "execution_count": 61,
   "id": "097ab0e7-de7b-430b-a945-113afed1fb96",
   "metadata": {},
   "outputs": [],
   "source": [
    "#using model to predict train and test data\n",
    "pred_ages_train = anti_transform_age(linear_regression_model.predict(train))\n",
    "pred_ages_train = pd.Series(pred_ages_train, index = train_index, name = 'pred_age')\n",
    "\n",
    "linear_regression_results_train = pd.concat([train_info, pred_ages_train], axis=1, sort=False, join='inner')\n",
    "\n",
    "pred_ages_test = anti_transform_age(linear_regression_model.predict(test))\n",
    "pred_ages_test = pd.Series(pred_ages_test, index = test_index, name = 'pred_age')\n",
    "\n",
    "linear_regression_results_test = pd.concat([test_info, pred_ages_test], axis=1, sort=False, join='inner')"
   ]
  },
  {
   "cell_type": "code",
   "execution_count": 62,
   "id": "da401775-10a8-43b1-ac14-c4d62f2e2dbc",
   "metadata": {},
   "outputs": [
    {
     "name": "stdout",
     "output_type": "stream",
     "text": [
      "MAE: 3.455274978841075\n",
      "MSE: 61.51115224369329\n"
     ]
    }
   ],
   "source": [
    "#quick view of metrics:\n",
    "mae = np.median(np.abs(pred_ages_test - test_ages))\n",
    "mse = np.mean((pred_ages_test - test_ages)**2)\n",
    "print('MAE: '+ str(mae))\n",
    "print('MSE: '+ str(mse))"
   ]
  },
  {
   "cell_type": "code",
   "execution_count": 63,
   "id": "4e969ecd-6108-4483-be06-36cf46c32b1b",
   "metadata": {},
   "outputs": [],
   "source": [
    "#saving results\n",
    "linear_regression_results_train.to_pickle('results_train/linear_regression_all_revision.pkl')\n",
    "linear_regression_results_test.to_pickle('results_test/linear_regression_all_revision.pkl')"
   ]
  },
  {
   "cell_type": "markdown",
   "id": "1e52e2f3-a23b-4f70-84dc-aa97cbfe47a2",
   "metadata": {
    "tags": []
   },
   "source": [
    "## Elastic Net CV"
   ]
  },
  {
   "cell_type": "code",
   "execution_count": 73,
   "id": "a148c102-491c-48d1-890d-a820fe17af1a",
   "metadata": {},
   "outputs": [
    {
     "data": {
      "text/plain": [
       "ElasticNet(alpha=0.5, n_splits=10, random_state=42)"
      ]
     },
     "execution_count": 73,
     "metadata": {},
     "output_type": "execute_result"
    }
   ],
   "source": [
    "#fit model\n",
    "elastic_net_model = ElasticNet(alpha = 0.5, n_splits = 10, random_state = 42) \n",
    "elastic_net_model.fit(train, transform_age(train_ages))"
   ]
  },
  {
   "cell_type": "code",
   "execution_count": 74,
   "id": "a49a2aa5-5466-425a-9156-1b33a611ac34",
   "metadata": {},
   "outputs": [],
   "source": [
    "my_cpgs = train_imp.columns[elastic_net_model.coef_ != 0]"
   ]
  },
  {
   "cell_type": "code",
   "execution_count": 75,
   "id": "0b982836-1cc2-4ae2-9fc1-fcf54aefbc73",
   "metadata": {},
   "outputs": [],
   "source": [
    "from pickle import dump\n",
    "dump(elastic_net_model, open('elastic_net.pkl', 'wb'))"
   ]
  },
  {
   "cell_type": "code",
   "execution_count": 76,
   "id": "ae476b89-d407-4441-bf14-5be2b3d8fdea",
   "metadata": {},
   "outputs": [
    {
     "name": "stdout",
     "output_type": "stream",
     "text": [
      "number of features: 903\n"
     ]
    }
   ],
   "source": [
    "print('number of features: ' + str(np.sum(elastic_net_model.coef_ != 0))) "
   ]
  },
  {
   "cell_type": "code",
   "execution_count": 68,
   "id": "a7615d56-0297-4638-bf5f-39dd76e13506",
   "metadata": {},
   "outputs": [],
   "source": [
    "#using model to predict train and test data\n",
    "pred_ages_train = anti_transform_age(elastic_net_model.predict(train))\n",
    "pred_ages_train = pd.Series(pred_ages_train, index = train_index, name = 'pred_age')\n",
    "\n",
    "elastic_net_results_train = pd.concat([train_info, pred_ages_train], axis=1, sort=False, join='inner')\n",
    "\n",
    "pred_ages_test = anti_transform_age(elastic_net_model.predict(test))\n",
    "pred_ages_test = pd.Series(pred_ages_test, index = test_index, name = 'pred_age')\n",
    "\n",
    "elastic_net_results_test = pd.concat([test_info, pred_ages_test], axis=1, sort=False, join='inner')\n",
    "\n",
    "pred_ages_cancer = anti_transform_age(elastic_net_model.predict(cancer))\n",
    "pred_ages_cancer = pd.Series(pred_ages_cancer, index = cancer_index, name = 'pred_age')\n",
    "\n",
    "elastic_net_results_cancer = pd.concat([cancer_info, pred_ages_cancer], axis=1, sort=False, join='inner')"
   ]
  },
  {
   "cell_type": "code",
   "execution_count": 69,
   "id": "4924b10c-412d-4226-8211-9565fd3768bd",
   "metadata": {},
   "outputs": [
    {
     "name": "stdout",
     "output_type": "stream",
     "text": [
      "MAE: 2.6209319454265625\n",
      "MSE: 39.19778051673902\n"
     ]
    }
   ],
   "source": [
    "#quick view of metrics:\n",
    "mae = np.median(np.abs(pred_ages_test - test_ages))\n",
    "mse = np.mean((pred_ages_test - test_ages)**2)\n",
    "print('MAE: '+ str(mae))\n",
    "print('MSE: '+ str(mse))"
   ]
  },
  {
   "cell_type": "code",
   "execution_count": 70,
   "id": "8305d75d-be8e-425b-b91b-fc395c7933ea",
   "metadata": {},
   "outputs": [],
   "source": [
    "#saving results\n",
    "elastic_net_results_train.to_pickle('results_train/elastic_net_revision.pkl')\n",
    "elastic_net_results_test.to_pickle('results_test/elastic_net_revision.pkl')\n",
    "elastic_net_results_cancer.to_pickle('results_cancer/elastic_net_revision.pkl')"
   ]
  },
  {
   "cell_type": "markdown",
   "id": "a0ed3bc5-8162-4577-ade1-4193e80fd3d7",
   "metadata": {
    "tags": []
   },
   "source": [
    "## AltumAge Reduced (ElasticNet CpGs)"
   ]
  },
  {
   "cell_type": "code",
   "execution_count": 77,
   "id": "e9a04f10-69a5-4a97-b90c-590c562d12f8",
   "metadata": {},
   "outputs": [],
   "source": [
    "#neural network architecture\n",
    "coeff = 0.05 * np.sqrt(2.0 * np.log(train_scaled.shape[1]) / train_scaled.shape[0]) \n",
    "noise = 0.1\n",
    "initializer = tf.keras.initializers.LecunNormal(seed=1)\n",
    "nn_model = Sequential([\n",
    "    Input(shape=(903,), name = 'feature'),\n",
    "    BatchNormalization(),\n",
    "    GaussianDropout(noise),\n",
    "    ActivityRegularization(0, coeff*10),\n",
    "    Dense(32, kernel_initializer = initializer, kernel_regularizer=tf.keras.regularizers.l1_l2(0, coeff*2)),\n",
    "    Activation('selu'),\n",
    "    BatchNormalization(),\n",
    "    GaussianDropout(noise),\n",
    "    ActivityRegularization(0, 0),\n",
    "    Dense(32, kernel_initializer = initializer, kernel_regularizer=tf.keras.regularizers.l1_l2(0, coeff*2)),\n",
    "    Activation('selu'),\n",
    "    BatchNormalization(),\n",
    "    GaussianDropout(noise),\n",
    "    ActivityRegularization(0, 0),\n",
    "    Dense(32, kernel_initializer = initializer, kernel_regularizer=tf.keras.regularizers.l1_l2(0, coeff*2)),\n",
    "    Activation('selu'),\n",
    "    BatchNormalization(),\n",
    "    GaussianDropout(noise),\n",
    "    ActivityRegularization(0, 0),\n",
    "    Dense(32, kernel_initializer = initializer, kernel_regularizer=tf.keras.regularizers.l1_l2(0, coeff*2)),\n",
    "    Activation('selu'),\n",
    "    BatchNormalization(),\n",
    "    GaussianDropout(noise),\n",
    "    ActivityRegularization(0, 0),\n",
    "    Dense(32, kernel_initializer = initializer, kernel_regularizer=tf.keras.regularizers.l1_l2(0, coeff*2)),\n",
    "    Activation('selu'),\n",
    "    BatchNormalization(),\n",
    "    Dense(1)\n",
    "])"
   ]
  },
  {
   "cell_type": "code",
   "execution_count": 78,
   "id": "1cd65190-5994-4b59-9591-624180aad23e",
   "metadata": {},
   "outputs": [],
   "source": [
    "checkpoint_filepath = '/tmp/checkpoint'\n",
    "model_checkpoint_callback = tf.keras.callbacks.ModelCheckpoint(\n",
    "    filepath=checkpoint_filepath,\n",
    "    save_weights_only=True,\n",
    "    monitor='loss',\n",
    "    mode='min',\n",
    "    save_best_only=True)"
   ]
  },
  {
   "cell_type": "code",
   "execution_count": 79,
   "id": "598b3f95-7d3b-4ca6-a8d6-086e241851d8",
   "metadata": {},
   "outputs": [],
   "source": [
    "random.seed(1)\n",
    "tf.random.set_seed(1)\n",
    "np.random.seed(1)"
   ]
  },
  {
   "cell_type": "code",
   "execution_count": 80,
   "id": "779c938d-b70b-41f7-bad4-5a68e774f05b",
   "metadata": {},
   "outputs": [
    {
     "data": {
      "text/plain": [
       "<tensorflow.python.training.tracking.util.CheckpointLoadStatus at 0x32b77d370>"
      ]
     },
     "execution_count": 80,
     "metadata": {},
     "output_type": "execute_result"
    }
   ],
   "source": [
    "reduce_lr = tf.keras.callbacks.ReduceLROnPlateau(monitor='loss', factor=0.2,\n",
    "                              patience=30, min_lr=0.00001)\n",
    "\n",
    "adv_config = nsl.configs.make_adv_reg_config(multiplier=0.05, adv_step_size=0.005)\n",
    "adv_model = nsl.keras.AdversarialRegularization(nn_model, adv_config=adv_config)\n",
    "\n",
    "optimizer = tf.keras.optimizers.Adam(learning_rate=0.002, beta_1=0.9, beta_2=0.999, epsilon=1e-07)\n",
    "\n",
    "# Compile, train, and evaluate.\n",
    "adv_model.compile(optimizer=optimizer,\n",
    "                  loss='mse',\n",
    "                  metrics=['mae'])\n",
    "\n",
    "history = adv_model.fit({'feature': np.array(train_scaled[my_cpgs]), 'label': np.array(train_ages)}, \n",
    "                batch_size=256, \n",
    "                epochs=300,\n",
    "                verbose=0,\n",
    "                callbacks=[model_checkpoint_callback, reduce_lr])\n",
    "\n",
    "adv_model.load_weights(checkpoint_filepath)"
   ]
  },
  {
   "cell_type": "code",
   "execution_count": 81,
   "id": "8c78ca1e-e065-4d66-99a4-99c2dc682952",
   "metadata": {},
   "outputs": [],
   "source": [
    "#using model to predict train and test data\n",
    "pred_ages_train = adv_model.base_model.predict(train_scaled[my_cpgs]).flatten()\n",
    "pred_ages_train = pd.Series(pred_ages_train, index = train_index, name = 'pred_age')\n",
    "\n",
    "nn_results_train = pd.concat([train_info, pred_ages_train], axis=1, sort=False, join='inner')\n",
    "\n",
    "pred_ages_test = adv_model.base_model.predict(test_scaled[my_cpgs]).flatten()\n",
    "pred_ages_test = pd.Series(pred_ages_test, index = test_index, name = 'pred_age')\n",
    "\n",
    "nn_results_test = pd.concat([test_info, pred_ages_test], axis=1, sort=False, join='inner')\n",
    "\n",
    "pred_ages_cancer = adv_model.base_model.predict(cancer_scaled[my_cpgs]).flatten()\n",
    "pred_ages_cancer = pd.Series(pred_ages_cancer, index = cancer_index, name = 'pred_age')\n",
    "\n",
    "nn_results_cancer = pd.concat([cancer_info, pred_ages_cancer], axis=1, sort=False, join='inner')"
   ]
  },
  {
   "cell_type": "code",
   "execution_count": 82,
   "id": "22155dfe-6007-4568-acc0-bcb30434359d",
   "metadata": {},
   "outputs": [
    {
     "name": "stdout",
     "output_type": "stream",
     "text": [
      "MAE: 2.3023014068603516\n",
      "MSE: 30.454544933341342\n"
     ]
    }
   ],
   "source": [
    "#quick view of metrics:\n",
    "mae = np.median(np.abs(pred_ages_test - test_ages))\n",
    "mse = np.mean((pred_ages_test - test_ages)**2)\n",
    "print('MAE: '+ str(mae))\n",
    "print('MSE: '+ str(mse))"
   ]
  },
  {
   "cell_type": "code",
   "execution_count": 83,
   "id": "929622ff-e2a4-4693-9907-c62b5ded484d",
   "metadata": {},
   "outputs": [],
   "source": [
    "#saving results\n",
    "nn_results_train.to_pickle('results_train/altum_age_reduced_revision.pkl')\n",
    "nn_results_test.to_pickle('results_test/altum_age_reduced_revision.pkl')\n",
    "nn_results_cancer.to_pickle('results_cancer/altum_age_reduced_revision.pkl')"
   ]
  },
  {
   "cell_type": "markdown",
   "id": "9c9c6882-fd13-41dd-9205-07fa6033863c",
   "metadata": {
    "tags": []
   },
   "source": [
    "## AltumAge"
   ]
  },
  {
   "cell_type": "code",
   "execution_count": 15,
   "id": "7b182876-05cb-4deb-825e-7976869ffac3",
   "metadata": {},
   "outputs": [],
   "source": [
    "#neural network architecture\n",
    "coeff = 0.05 * np.sqrt(2.0 * np.log(train_scaled.shape[1]) / train_scaled.shape[0]) \n",
    "noise = 0.1\n",
    "initializer = tf.keras.initializers.LecunNormal(seed=1)\n",
    "nn_model = Sequential([\n",
    "    Input(shape=(20318,), name = 'feature'),\n",
    "    BatchNormalization(),\n",
    "    GaussianDropout(noise),\n",
    "    ActivityRegularization(0, coeff*10),\n",
    "    Dense(32, kernel_initializer = initializer, kernel_regularizer=tf.keras.regularizers.l1_l2(0, coeff*2)),\n",
    "    Activation('selu'),\n",
    "    BatchNormalization(),\n",
    "    GaussianDropout(noise),\n",
    "    ActivityRegularization(0, 0),\n",
    "    Dense(32, kernel_initializer = initializer, kernel_regularizer=tf.keras.regularizers.l1_l2(0, coeff*2)),\n",
    "    Activation('selu'),\n",
    "    BatchNormalization(),\n",
    "    GaussianDropout(noise),\n",
    "    ActivityRegularization(0, 0),\n",
    "    Dense(32, kernel_initializer = initializer, kernel_regularizer=tf.keras.regularizers.l1_l2(0, coeff*2)),\n",
    "    Activation('selu'),\n",
    "    BatchNormalization(),\n",
    "    GaussianDropout(noise),\n",
    "    ActivityRegularization(0, 0),\n",
    "    Dense(32, kernel_initializer = initializer, kernel_regularizer=tf.keras.regularizers.l1_l2(0, coeff*2)),\n",
    "    Activation('selu'),\n",
    "    BatchNormalization(),\n",
    "    GaussianDropout(noise),\n",
    "    ActivityRegularization(0, 0),\n",
    "    Dense(32, kernel_initializer = initializer, kernel_regularizer=tf.keras.regularizers.l1_l2(0, coeff*2)),\n",
    "    Activation('selu'),\n",
    "    BatchNormalization(),\n",
    "    Dense(1)\n",
    "])"
   ]
  },
  {
   "cell_type": "code",
   "execution_count": 16,
   "id": "2b57022a-bf3f-4d97-8bd3-b61e067f06db",
   "metadata": {},
   "outputs": [],
   "source": [
    "checkpoint_filepath = '/tmp/checkpoint'\n",
    "model_checkpoint_callback = tf.keras.callbacks.ModelCheckpoint(\n",
    "    filepath=checkpoint_filepath,\n",
    "    save_weights_only=True,\n",
    "    monitor='loss',\n",
    "    mode='min',\n",
    "    save_best_only=True)"
   ]
  },
  {
   "cell_type": "code",
   "execution_count": 17,
   "id": "37fd1eaa-266f-49b0-9aef-d5c5db6be755",
   "metadata": {},
   "outputs": [],
   "source": [
    "random.seed(1)\n",
    "tf.random.set_seed(1)\n",
    "np.random.seed(1)"
   ]
  },
  {
   "cell_type": "code",
   "execution_count": 23,
   "id": "ea6ed850-6aab-4f6b-8102-e98f5ba9a367",
   "metadata": {},
   "outputs": [
    {
     "name": "stdout",
     "output_type": "stream",
     "text": [
      "WARNING:tensorflow:AutoGraph could not transform <bound method Socket.send of <zmq.Socket(zmq.PUSH) at 0x10429c7c0>> and will run it as-is.\n",
      "Please report this to the TensorFlow team. When filing the bug, set the verbosity to 10 (on Linux, `export AUTOGRAPH_VERBOSITY=10`) and attach the full output.\n",
      "Cause: module, class, method, function, traceback, frame, or code object was expected, got cython_function_or_method\n",
      "To silence this warning, decorate the function with @tf.autograph.experimental.do_not_convert\n"
     ]
    },
    {
     "name": "stderr",
     "output_type": "stream",
     "text": [
      "WARNING:absl:Cannot perturb features dict_keys(['label'])\n",
      "WARNING:tensorflow:AutoGraph could not transform <bound method Socket.send of <zmq.Socket(zmq.PUSH) at 0x10429c7c0>> and will run it as-is.\n",
      "Please report this to the TensorFlow team. When filing the bug, set the verbosity to 10 (on Linux, `export AUTOGRAPH_VERBOSITY=10`) and attach the full output.\n",
      "Cause: module, class, method, function, traceback, frame, or code object was expected, got cython_function_or_method\n",
      "To silence this warning, decorate the function with @tf.autograph.experimental.do_not_convert\n"
     ]
    },
    {
     "name": "stdout",
     "output_type": "stream",
     "text": [
      "WARNING: AutoGraph could not transform <bound method Socket.send of <zmq.Socket(zmq.PUSH) at 0x10429c7c0>> and will run it as-is.\n",
      "Please report this to the TensorFlow team. When filing the bug, set the verbosity to 10 (on Linux, `export AUTOGRAPH_VERBOSITY=10`) and attach the full output.\n",
      "Cause: module, class, method, function, traceback, frame, or code object was expected, got cython_function_or_method\n",
      "To silence this warning, decorate the function with @tf.autograph.experimental.do_not_convert\n"
     ]
    },
    {
     "data": {
      "text/plain": [
       "<tensorflow.python.training.tracking.util.CheckpointLoadStatus at 0x29336ddc0>"
      ]
     },
     "execution_count": 23,
     "metadata": {},
     "output_type": "execute_result"
    }
   ],
   "source": [
    "reduce_lr = tf.keras.callbacks.ReduceLROnPlateau(monitor='loss', factor=0.2,\n",
    "                              patience=30, min_lr=0.00001)\n",
    "\n",
    "adv_config = nsl.configs.make_adv_reg_config(multiplier=0.05, adv_step_size=0.005)\n",
    "adv_model = nsl.keras.AdversarialRegularization(nn_model, adv_config=adv_config)\n",
    "\n",
    "optimizer = tf.keras.optimizers.Adam(learning_rate=0.002, beta_1=0.9, beta_2=0.999, epsilon=1e-07)\n",
    "\n",
    "# Compile, train, and evaluate.\n",
    "adv_model.compile(optimizer=optimizer,\n",
    "                  loss='mse',\n",
    "                  metrics=['mae'])\n",
    "\n",
    "history = adv_model.fit({'feature': np.array(train_scaled), 'label': np.array(train_ages)}, \n",
    "                batch_size=256, \n",
    "                epochs=300,\n",
    "                verbose=0,\n",
    "                callbacks=[model_checkpoint_callback, reduce_lr])\n",
    "\n",
    "adv_model.load_weights(checkpoint_filepath)"
   ]
  },
  {
   "cell_type": "code",
   "execution_count": 82,
   "id": "5fd98cab-f1f9-4d5a-b79d-0aa970c49971",
   "metadata": {},
   "outputs": [],
   "source": [
    "adv_model.base_model.save('AltumAge_npj.h5')"
   ]
  },
  {
   "cell_type": "code",
   "execution_count": 83,
   "id": "4dd24cb4-eaf0-41a9-b588-399be8eb6389",
   "metadata": {},
   "outputs": [],
   "source": [
    "#using model to predict train and test data\n",
    "pred_ages_train = adv_model.base_model.predict(train_scaled).flatten()\n",
    "pred_ages_train = pd.Series(pred_ages_train, index = train_index, name = 'pred_age')\n",
    "\n",
    "nn_results_train = pd.concat([train_info, pred_ages_train], axis=1, sort=False, join='inner')\n",
    "\n",
    "pred_ages_test = adv_model.base_model.predict(test_scaled).flatten()\n",
    "pred_ages_test = pd.Series(pred_ages_test, index = test_index, name = 'pred_age')\n",
    "\n",
    "nn_results_test = pd.concat([test_info, pred_ages_test], axis=1, sort=False, join='inner')\n",
    "\n",
    "pred_ages_cancer = adv_model.base_model.predict(cancer_scaled).flatten()\n",
    "pred_ages_cancer = pd.Series(pred_ages_cancer, index = cancer_index, name = 'pred_age')\n",
    "\n",
    "nn_results_cancer = pd.concat([cancer_info, pred_ages_cancer], axis=1, sort=False, join='inner')"
   ]
  },
  {
   "cell_type": "code",
   "execution_count": 194,
   "id": "a9918bd4-09a6-41df-843e-40df8bf82f32",
   "metadata": {},
   "outputs": [
    {
     "name": "stdout",
     "output_type": "stream",
     "text": [
      "MAE: 2.153247833251953\n",
      "MSE: 29.48580350816364\n"
     ]
    }
   ],
   "source": [
    "#quick view of metrics:\n",
    "mae = np.median(np.abs(pred_ages_test - test_ages))\n",
    "mse = np.mean((pred_ages_test - test_ages)**2)\n",
    "print('MAE: '+ str(mae))\n",
    "print('MSE: '+ str(mse))"
   ]
  },
  {
   "cell_type": "code",
   "execution_count": 85,
   "id": "f9582f0b-ee52-4571-8662-dd1f23d30ce3",
   "metadata": {},
   "outputs": [],
   "source": [
    "#saving results\n",
    "nn_results_train.to_pickle('results_train/altum_age_revision.pkl')\n",
    "nn_results_test.to_pickle('results_test/altum_age_revision.pkl')\n",
    "nn_results_cancer.to_pickle('results_cancer/altum_age_revision.pkl')"
   ]
  },
  {
   "cell_type": "code",
   "execution_count": null,
   "id": "6fd06c14-372f-4519-8784-acb5061e66a1",
   "metadata": {},
   "outputs": [],
   "source": [
    "tabnet = TabNetRegressor()\n",
    "tabnet.fit(\n",
    "    np.array(train_scaled), np.array(train_ages).reshape(-1, 1),\n",
    "    max_epochs = 300\n",
    ")"
   ]
  },
  {
   "cell_type": "code",
   "execution_count": 21,
   "id": "61ab74be-a53a-40d9-9f9c-9cca8fe3eede",
   "metadata": {},
   "outputs": [],
   "source": [
    "#using model to predict train and test data\n",
    "pred_ages_train = tabnet.predict(np.array(train_scaled)).flatten()\n",
    "pred_ages_train = pd.Series(pred_ages_train, index = train_index, name = 'pred_age')\n",
    "\n",
    "tabnet_results_train = pd.concat([train_info, pred_ages_train], axis=1, sort=False, join='inner')\n",
    "\n",
    "pred_ages_test = tabnet.predict(np.array(test_scaled)).flatten()\n",
    "pred_ages_test = pd.Series(pred_ages_test, index = test_index, name = 'pred_age')\n",
    "\n",
    "tabnet_results_test = pd.concat([test_info, pred_ages_test], axis=1, sort=False, join='inner')\n",
    "\n",
    "pred_ages_cancer = tabnet.predict(np.array(cancer_scaled)).flatten()\n",
    "pred_ages_cancer = pd.Series(pred_ages_cancer, index = cancer_index, name = 'pred_age')\n",
    "\n",
    "tabnet_results_cancer = pd.concat([cancer_info, pred_ages_cancer], axis=1, sort=False, join='inner')"
   ]
  },
  {
   "cell_type": "code",
   "execution_count": 23,
   "id": "7c8748ae-9e2a-4d82-bc61-021f7e01efac",
   "metadata": {},
   "outputs": [
    {
     "name": "stdout",
     "output_type": "stream",
     "text": [
      "MAE: 2.501434326171875\n",
      "MSE: 34.99708425893395\n"
     ]
    }
   ],
   "source": [
    "#quick view of metrics:\n",
    "mae = np.median(np.abs(pred_ages_test - test_ages))\n",
    "mse = np.mean((pred_ages_test - test_ages)**2)\n",
    "print('MAE: '+ str(mae))\n",
    "print('MSE: '+ str(mse))"
   ]
  },
  {
   "cell_type": "code",
   "execution_count": 24,
   "id": "db6f8b5f-4773-417e-963a-fcd52d502fda",
   "metadata": {},
   "outputs": [],
   "source": [
    "#saving results\n",
    "tabnet_results_train.to_pickle('results_train/tabnet_revision.pkl')\n",
    "tabnet_results_test.to_pickle('results_test/tabnet_revision.pkl')\n",
    "tabnet_results_cancer.to_pickle('results_cancer/tabnet_revision.pkl')"
   ]
  },
  {
   "cell_type": "code",
   "execution_count": 25,
   "id": "cdc81bd0-7cea-406e-8bc2-235f2f7dd545",
   "metadata": {},
   "outputs": [
    {
     "name": "stdout",
     "output_type": "stream",
     "text": [
      "Successfully saved model at ./tabnet_model_test.zip\n"
     ]
    }
   ],
   "source": [
    "saving_path_name = \"./tabnet_model_test\"\n",
    "saved_filepath = tabnet.save_model(saving_path_name)"
   ]
  },
  {
   "cell_type": "markdown",
   "id": "fb2a249d-4676-4ab3-8b55-30a888876039",
   "metadata": {},
   "source": [
    "## LOOCV"
   ]
  },
  {
   "cell_type": "code",
   "execution_count": 7,
   "id": "b7e0a013-e74b-4fa6-b8db-fffca1a47e76",
   "metadata": {},
   "outputs": [],
   "source": [
    "#load all train data for model training\n",
    "count = 0   \n",
    "for dataset in all_data:\n",
    "    print(dataset)\n",
    "    if count == 0:\n",
    "        train = pd.read_pickle('./data_train/' + dataset + '.pkl')\n",
    "        count += 1\n",
    "    else:\n",
    "        new_df = pd.read_pickle('./data_train/' + dataset + '.pkl')\n",
    "        train = pd.concat([train, new_df], join ='inner')\n",
    "        gc.collect()\n",
    "    clear_output()"
   ]
  },
  {
   "cell_type": "code",
   "execution_count": 8,
   "id": "83c12592-4df7-4215-b6da-a8d122a23d66",
   "metadata": {},
   "outputs": [],
   "source": [
    "#load all test data\n",
    "count = 0   \n",
    "for dataset in all_data:\n",
    "    print(dataset)\n",
    "    if count == 0:\n",
    "        test = pd.read_pickle('./data_test/' + dataset + '.pkl')\n",
    "        count += 1\n",
    "    else:\n",
    "        new_df = pd.read_pickle('./data_test/' + dataset + '.pkl')\n",
    "        test = pd.concat([test, new_df], join ='inner')\n",
    "        gc.collect()\n",
    "    clear_output()"
   ]
  },
  {
   "cell_type": "code",
   "execution_count": 9,
   "id": "3c1e5ffd-9b70-489c-bee2-64f37db57130",
   "metadata": {},
   "outputs": [],
   "source": [
    "#extracting age and removing unimportant columns\n",
    "train_ages = train['age'].astype('float64')\n",
    "test_ages = test['age'].astype('float64')\n",
    "\n",
    "train_info = train[['dataset', 'tissue_type', 'age', 'gender']]\n",
    "test_info = test[['dataset', 'tissue_type', 'age', 'gender']]\n",
    "\n",
    "train = train.drop(columns = ['dataset', 'tissue_type', 'age', 'gender'], axis=0)\n",
    "test = test.drop(columns = ['dataset', 'tissue_type', 'age', 'gender'], axis=0)"
   ]
  },
  {
   "cell_type": "code",
   "execution_count": 10,
   "id": "82b843a8-ad36-4e3f-84ee-229094987a6e",
   "metadata": {},
   "outputs": [],
   "source": [
    "#save names of columns and indexes\n",
    "train_cols = train.columns\n",
    "train_index = train.index\n",
    "\n",
    "test_cols = test.columns\n",
    "test_index = test.index"
   ]
  },
  {
   "cell_type": "code",
   "execution_count": 12,
   "id": "694d75b8-47b1-4ca3-895a-53ecc807fc8d",
   "metadata": {},
   "outputs": [],
   "source": [
    "#dataframe to store all loocv results\n",
    "loocv_nn = pd.DataFrame(columns = ['dataset', 'tissue_type', 'age', 'gender', 'pred_age'])\n",
    "loocv_elastic_net = pd.DataFrame(columns = ['dataset', 'tissue_type', 'age', 'gender', 'pred_age'])"
   ]
  },
  {
   "cell_type": "code",
   "execution_count": 14,
   "id": "b5439b77-a286-49ad-ab79-1acef204607f",
   "metadata": {},
   "outputs": [
    {
     "name": "stdout",
     "output_type": "stream",
     "text": [
      "141: TCGA_UCEC\n",
      "Done\n"
     ]
    }
   ],
   "source": [
    "#loop to fit neural network in all training datasets but one, perform predictions, and store results\n",
    "initializer = tf.keras.initializers.LecunNormal(seed=1)\n",
    "count = 0\n",
    "for dataset in np.unique(train_info[['dataset']])[count:]:\n",
    "    \n",
    "    random.seed(1)\n",
    "    tf.random.set_seed(1)\n",
    "    np.random.seed(1)\n",
    "    \n",
    "    gc.collect()\n",
    "    clear_output()\n",
    "    print(str(count) + ': ' + dataset)\n",
    "    \n",
    "    #create training and validation datasets for LOOCV\n",
    "    new_train = train[train_info.dataset != dataset]\n",
    "    validation = test[test_info.dataset == dataset]\n",
    "    \n",
    "    #scaling the data for the NN\n",
    "    scaler = preprocessing.RobustScaler()\n",
    "    new_train_scaled = pd.DataFrame(scaler.fit_transform(new_train), index = train.index[train_info.dataset != dataset], columns = multi_platform_cpgs)\n",
    "    validation_scaled = pd.DataFrame(scaler.transform(validation), index = test.index[test_info.dataset == dataset], columns = multi_platform_cpgs)\n",
    "  \n",
    "    new_train_ages = train_ages[train_info.dataset != dataset]\n",
    "    val_ages = test_ages[test_info.dataset == dataset]\n",
    "\n",
    "    new_train_info = train_info[train_info.dataset != dataset]\n",
    "    validation_info = test_info[test_info.dataset == dataset]\n",
    "    \n",
    "    new_train_cols = train.columns\n",
    "    new_train_index = train.index[train_info.dataset != dataset]\n",
    "    \n",
    "    validation_cols = test.columns\n",
    "    validation_index = test.index[test_info.dataset == dataset]\n",
    "    \n",
    "    #fit elastic net model\n",
    "    elastic_net_model = ElasticNet(alpha = 0.5, n_splits = 10, random_state = 1, n_jobs = 3) \n",
    "    elastic_net_model.fit(new_train, transform_age(new_train_ages))\n",
    "\n",
    "    my_cpgs = new_train.columns[elastic_net_model.coef_ != 0]\n",
    "    \n",
    "    #neural network\n",
    "    #neural network architecture\n",
    "    coeff = 0.05 * np.sqrt(2.0 * np.log(train_imp.shape[1]) / train_imp.shape[0]) \n",
    "    noise = 0.1\n",
    "    initializer = tf.keras.initializers.LecunNormal(seed=1)\n",
    "    nn_model = Sequential([\n",
    "        Input(shape=(20318,), name = 'feature'),\n",
    "        BatchNormalization(),\n",
    "        GaussianDropout(noise),\n",
    "        ActivityRegularization(0, coeff*10),\n",
    "        Dense(32, kernel_initializer = initializer, kernel_regularizer=tf.keras.regularizers.l1_l2(0, coeff*2)),\n",
    "        Activation('selu'),\n",
    "        BatchNormalization(),\n",
    "        GaussianDropout(noise),\n",
    "        ActivityRegularization(0, 0),\n",
    "        Dense(32, kernel_initializer = initializer, kernel_regularizer=tf.keras.regularizers.l1_l2(0, coeff*2)),\n",
    "        Activation('selu'),\n",
    "        BatchNormalization(),\n",
    "        GaussianDropout(noise),\n",
    "        ActivityRegularization(0, 0),\n",
    "        Dense(32, kernel_initializer = initializer, kernel_regularizer=tf.keras.regularizers.l1_l2(0, coeff*2)),\n",
    "        Activation('selu'),\n",
    "        BatchNormalization(),\n",
    "        GaussianDropout(noise),\n",
    "        ActivityRegularization(0, 0),\n",
    "        Dense(32, kernel_initializer = initializer, kernel_regularizer=tf.keras.regularizers.l1_l2(0, coeff*2)),\n",
    "        Activation('selu'),\n",
    "        BatchNormalization(),\n",
    "        GaussianDropout(noise),\n",
    "        ActivityRegularization(0, 0),\n",
    "        Dense(32, kernel_initializer = initializer, kernel_regularizer=tf.keras.regularizers.l1_l2(0, coeff*2)),\n",
    "        Activation('selu'),\n",
    "        BatchNormalization(),\n",
    "        Dense(1)\n",
    "    ])\n",
    "    \n",
    "    checkpoint_filepath = '/tmp/checkpoint'\n",
    "    model_checkpoint_callback = tf.keras.callbacks.ModelCheckpoint(\n",
    "        filepath=checkpoint_filepath,\n",
    "        save_weights_only=True,\n",
    "        monitor='loss',\n",
    "        mode='min',\n",
    "        save_best_only=True)\n",
    "    \n",
    "    reduce_lr = tf.keras.callbacks.ReduceLROnPlateau(monitor='loss', factor=0.2,\n",
    "                              patience=30, min_lr=0.00001)\n",
    "\n",
    "    adv_config = nsl.configs.make_adv_reg_config(multiplier=0.05, adv_step_size=0.005)\n",
    "    adv_model = nsl.keras.AdversarialRegularization(nn_model, adv_config=adv_config)\n",
    "\n",
    "    optimizer = tf.keras.optimizers.Adam(learning_rate=0.002, beta_1=0.9, beta_2=0.999, epsilon=1e-07)\n",
    "\n",
    "    # Compile, train, and evaluate.\n",
    "    adv_model.compile(optimizer=optimizer,\n",
    "                      loss='mse',\n",
    "                      metrics=['mae'])\n",
    "\n",
    "    history = adv_model.fit({'feature': np.array(new_train_scaled), 'label': np.array(new_train_ages)}, \n",
    "                    batch_size=256, \n",
    "                    epochs=300,\n",
    "                    verbose=0,\n",
    "                    callbacks=[model_checkpoint_callback, reduce_lr])\n",
    "\n",
    "    adv_model.load_weights(checkpoint_filepath)\n",
    "    nn_model = adv_model.base_model\n",
    "    \n",
    "    #using model to predict validation data\n",
    "    \n",
    "    pred_ages_elastic_net = anti_transform_age(elastic_net_model.predict(validation_imp))\n",
    "    pred_ages_elastic_net = pd.Series(pred_ages_elastic_net, index = validation_index, name = 'pred_age')\n",
    "    \n",
    "    pred_ages_nn = nn_model.predict(validation).flatten()\n",
    "    pred_ages_nn = pd.Series(pred_ages_nn, index = validation_index, name = 'pred_age')\n",
    "      \n",
    "    #storing results \n",
    "    elastic_net_results = pd.concat([validation_info, pred_ages_elastic_net], axis=1, sort=False, join='inner')\n",
    "    loocv_elastic_net = pd.concat([loocv_elastic_net, elastic_net_results])\n",
    "    \n",
    "    nn_results = pd.concat([validation_info, pred_ages_nn], axis=1, sort=False, join='inner')\n",
    "    loocv_nn = pd.concat([loocv_nn, nn_results])\n",
    "    \n",
    "    #saving results\n",
    "    loocv_elastic_net.to_pickle('results_loocv/loocv_glmnet.pkl')\n",
    "    loocv_nn.to_pickle('results_loocv/loocv_nn_revision.pkl')\n",
    "    print('Done')\n",
    "    \n",
    "    count += 1"
   ]
  },
  {
   "cell_type": "code",
   "execution_count": null,
   "id": "c3a05724-76c5-4ef7-b71e-a316a19c91c1",
   "metadata": {},
   "outputs": [],
   "source": []
  }
 ],
 "metadata": {
  "kernelspec": {
   "display_name": "Python 3 (ipykernel)",
   "language": "python",
   "name": "python3"
  },
  "language_info": {
   "codemirror_mode": {
    "name": "ipython",
    "version": 3
   },
   "file_extension": ".py",
   "mimetype": "text/x-python",
   "name": "python",
   "nbconvert_exporter": "python",
   "pygments_lexer": "ipython3",
   "version": "3.9.7"
  }
 },
 "nbformat": 4,
 "nbformat_minor": 5
}
